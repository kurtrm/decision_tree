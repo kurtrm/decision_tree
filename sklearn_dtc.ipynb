{
 "cells": [
  {
   "cell_type": "code",
   "execution_count": 1,
   "metadata": {
    "collapsed": true
   },
   "outputs": [],
   "source": [
    "import numpy as np\n",
    "import pandas as pd\n",
    "from sklearn.tree import DecisionTreeClassifier\n",
    "from sklearn.datasets import load_iris\n",
    "\n",
    "from IPython.core.interactiveshell import InteractiveShell\n",
    "InteractiveShell.ast_node_interactivity = 'all'\n",
    "\n",
    "%load_ext autoreload\n",
    "%autoreload 2"
   ]
  },
  {
   "cell_type": "markdown",
   "metadata": {},
   "source": [
    "This will be a playground for exploring sklearn's Decision Tree Classifier."
   ]
  },
  {
   "cell_type": "code",
   "execution_count": 2,
   "metadata": {
    "collapsed": true
   },
   "outputs": [],
   "source": [
    "iris = load_iris()"
   ]
  },
  {
   "cell_type": "code",
   "execution_count": 3,
   "metadata": {},
   "outputs": [
    {
     "data": {
      "text/plain": [
       "dict_keys(['data', 'target', 'target_names', 'DESCR', 'feature_names'])"
      ]
     },
     "execution_count": 3,
     "metadata": {},
     "output_type": "execute_result"
    }
   ],
   "source": [
    "iris.keys()"
   ]
  },
  {
   "cell_type": "code",
   "execution_count": 4,
   "metadata": {},
   "outputs": [
    {
     "data": {
      "text/plain": [
       "['sepal length (cm)',\n",
       " 'sepal width (cm)',\n",
       " 'petal length (cm)',\n",
       " 'petal width (cm)']"
      ]
     },
     "execution_count": 4,
     "metadata": {},
     "output_type": "execute_result"
    }
   ],
   "source": [
    "iris['feature_names']"
   ]
  },
  {
   "cell_type": "code",
   "execution_count": 5,
   "metadata": {
    "collapsed": true
   },
   "outputs": [],
   "source": [
    "iris_petal_dims = iris['data'][:, 2:]"
   ]
  },
  {
   "cell_type": "code",
   "execution_count": 6,
   "metadata": {},
   "outputs": [
    {
     "data": {
      "text/plain": [
       "numpy.ndarray"
      ]
     },
     "execution_count": 6,
     "metadata": {},
     "output_type": "execute_result"
    }
   ],
   "source": [
    "type(iris_petal_dims)"
   ]
  },
  {
   "cell_type": "code",
   "execution_count": 7,
   "metadata": {
    "collapsed": true
   },
   "outputs": [],
   "source": [
    "iris_dict = {'petal length (cm)': iris_petal_dims[:, 0],\n",
    "             'petal width (cm)': iris_petal_dims[:, 1],\n",
    "             'labels': iris['target']}"
   ]
  },
  {
   "cell_type": "code",
   "execution_count": 8,
   "metadata": {
    "collapsed": true
   },
   "outputs": [],
   "source": [
    "iris_df = pd.DataFrame(iris_dict)"
   ]
  },
  {
   "cell_type": "code",
   "execution_count": 9,
   "metadata": {},
   "outputs": [
    {
     "data": {
      "text/html": [
       "<div>\n",
       "<style>\n",
       "    .dataframe thead tr:only-child th {\n",
       "        text-align: right;\n",
       "    }\n",
       "\n",
       "    .dataframe thead th {\n",
       "        text-align: left;\n",
       "    }\n",
       "\n",
       "    .dataframe tbody tr th {\n",
       "        vertical-align: top;\n",
       "    }\n",
       "</style>\n",
       "<table border=\"1\" class=\"dataframe\">\n",
       "  <thead>\n",
       "    <tr style=\"text-align: right;\">\n",
       "      <th></th>\n",
       "      <th>labels</th>\n",
       "      <th>petal length (cm)</th>\n",
       "      <th>petal width (cm)</th>\n",
       "    </tr>\n",
       "  </thead>\n",
       "  <tbody>\n",
       "    <tr>\n",
       "      <th>0</th>\n",
       "      <td>0</td>\n",
       "      <td>1.4</td>\n",
       "      <td>0.2</td>\n",
       "    </tr>\n",
       "    <tr>\n",
       "      <th>1</th>\n",
       "      <td>0</td>\n",
       "      <td>1.4</td>\n",
       "      <td>0.2</td>\n",
       "    </tr>\n",
       "    <tr>\n",
       "      <th>2</th>\n",
       "      <td>0</td>\n",
       "      <td>1.3</td>\n",
       "      <td>0.2</td>\n",
       "    </tr>\n",
       "    <tr>\n",
       "      <th>3</th>\n",
       "      <td>0</td>\n",
       "      <td>1.5</td>\n",
       "      <td>0.2</td>\n",
       "    </tr>\n",
       "    <tr>\n",
       "      <th>4</th>\n",
       "      <td>0</td>\n",
       "      <td>1.4</td>\n",
       "      <td>0.2</td>\n",
       "    </tr>\n",
       "    <tr>\n",
       "      <th>5</th>\n",
       "      <td>0</td>\n",
       "      <td>1.7</td>\n",
       "      <td>0.4</td>\n",
       "    </tr>\n",
       "    <tr>\n",
       "      <th>6</th>\n",
       "      <td>0</td>\n",
       "      <td>1.4</td>\n",
       "      <td>0.3</td>\n",
       "    </tr>\n",
       "    <tr>\n",
       "      <th>7</th>\n",
       "      <td>0</td>\n",
       "      <td>1.5</td>\n",
       "      <td>0.2</td>\n",
       "    </tr>\n",
       "    <tr>\n",
       "      <th>8</th>\n",
       "      <td>0</td>\n",
       "      <td>1.4</td>\n",
       "      <td>0.2</td>\n",
       "    </tr>\n",
       "    <tr>\n",
       "      <th>9</th>\n",
       "      <td>0</td>\n",
       "      <td>1.5</td>\n",
       "      <td>0.1</td>\n",
       "    </tr>\n",
       "    <tr>\n",
       "      <th>10</th>\n",
       "      <td>0</td>\n",
       "      <td>1.5</td>\n",
       "      <td>0.2</td>\n",
       "    </tr>\n",
       "    <tr>\n",
       "      <th>11</th>\n",
       "      <td>0</td>\n",
       "      <td>1.6</td>\n",
       "      <td>0.2</td>\n",
       "    </tr>\n",
       "    <tr>\n",
       "      <th>12</th>\n",
       "      <td>0</td>\n",
       "      <td>1.4</td>\n",
       "      <td>0.1</td>\n",
       "    </tr>\n",
       "    <tr>\n",
       "      <th>13</th>\n",
       "      <td>0</td>\n",
       "      <td>1.1</td>\n",
       "      <td>0.1</td>\n",
       "    </tr>\n",
       "    <tr>\n",
       "      <th>14</th>\n",
       "      <td>0</td>\n",
       "      <td>1.2</td>\n",
       "      <td>0.2</td>\n",
       "    </tr>\n",
       "    <tr>\n",
       "      <th>15</th>\n",
       "      <td>0</td>\n",
       "      <td>1.5</td>\n",
       "      <td>0.4</td>\n",
       "    </tr>\n",
       "    <tr>\n",
       "      <th>16</th>\n",
       "      <td>0</td>\n",
       "      <td>1.3</td>\n",
       "      <td>0.4</td>\n",
       "    </tr>\n",
       "    <tr>\n",
       "      <th>17</th>\n",
       "      <td>0</td>\n",
       "      <td>1.4</td>\n",
       "      <td>0.3</td>\n",
       "    </tr>\n",
       "    <tr>\n",
       "      <th>18</th>\n",
       "      <td>0</td>\n",
       "      <td>1.7</td>\n",
       "      <td>0.3</td>\n",
       "    </tr>\n",
       "    <tr>\n",
       "      <th>19</th>\n",
       "      <td>0</td>\n",
       "      <td>1.5</td>\n",
       "      <td>0.3</td>\n",
       "    </tr>\n",
       "    <tr>\n",
       "      <th>20</th>\n",
       "      <td>0</td>\n",
       "      <td>1.7</td>\n",
       "      <td>0.2</td>\n",
       "    </tr>\n",
       "    <tr>\n",
       "      <th>21</th>\n",
       "      <td>0</td>\n",
       "      <td>1.5</td>\n",
       "      <td>0.4</td>\n",
       "    </tr>\n",
       "    <tr>\n",
       "      <th>22</th>\n",
       "      <td>0</td>\n",
       "      <td>1.0</td>\n",
       "      <td>0.2</td>\n",
       "    </tr>\n",
       "    <tr>\n",
       "      <th>23</th>\n",
       "      <td>0</td>\n",
       "      <td>1.7</td>\n",
       "      <td>0.5</td>\n",
       "    </tr>\n",
       "    <tr>\n",
       "      <th>24</th>\n",
       "      <td>0</td>\n",
       "      <td>1.9</td>\n",
       "      <td>0.2</td>\n",
       "    </tr>\n",
       "    <tr>\n",
       "      <th>25</th>\n",
       "      <td>0</td>\n",
       "      <td>1.6</td>\n",
       "      <td>0.2</td>\n",
       "    </tr>\n",
       "    <tr>\n",
       "      <th>26</th>\n",
       "      <td>0</td>\n",
       "      <td>1.6</td>\n",
       "      <td>0.4</td>\n",
       "    </tr>\n",
       "    <tr>\n",
       "      <th>27</th>\n",
       "      <td>0</td>\n",
       "      <td>1.5</td>\n",
       "      <td>0.2</td>\n",
       "    </tr>\n",
       "    <tr>\n",
       "      <th>28</th>\n",
       "      <td>0</td>\n",
       "      <td>1.4</td>\n",
       "      <td>0.2</td>\n",
       "    </tr>\n",
       "    <tr>\n",
       "      <th>29</th>\n",
       "      <td>0</td>\n",
       "      <td>1.6</td>\n",
       "      <td>0.2</td>\n",
       "    </tr>\n",
       "    <tr>\n",
       "      <th>...</th>\n",
       "      <td>...</td>\n",
       "      <td>...</td>\n",
       "      <td>...</td>\n",
       "    </tr>\n",
       "    <tr>\n",
       "      <th>120</th>\n",
       "      <td>2</td>\n",
       "      <td>5.7</td>\n",
       "      <td>2.3</td>\n",
       "    </tr>\n",
       "    <tr>\n",
       "      <th>121</th>\n",
       "      <td>2</td>\n",
       "      <td>4.9</td>\n",
       "      <td>2.0</td>\n",
       "    </tr>\n",
       "    <tr>\n",
       "      <th>122</th>\n",
       "      <td>2</td>\n",
       "      <td>6.7</td>\n",
       "      <td>2.0</td>\n",
       "    </tr>\n",
       "    <tr>\n",
       "      <th>123</th>\n",
       "      <td>2</td>\n",
       "      <td>4.9</td>\n",
       "      <td>1.8</td>\n",
       "    </tr>\n",
       "    <tr>\n",
       "      <th>124</th>\n",
       "      <td>2</td>\n",
       "      <td>5.7</td>\n",
       "      <td>2.1</td>\n",
       "    </tr>\n",
       "    <tr>\n",
       "      <th>125</th>\n",
       "      <td>2</td>\n",
       "      <td>6.0</td>\n",
       "      <td>1.8</td>\n",
       "    </tr>\n",
       "    <tr>\n",
       "      <th>126</th>\n",
       "      <td>2</td>\n",
       "      <td>4.8</td>\n",
       "      <td>1.8</td>\n",
       "    </tr>\n",
       "    <tr>\n",
       "      <th>127</th>\n",
       "      <td>2</td>\n",
       "      <td>4.9</td>\n",
       "      <td>1.8</td>\n",
       "    </tr>\n",
       "    <tr>\n",
       "      <th>128</th>\n",
       "      <td>2</td>\n",
       "      <td>5.6</td>\n",
       "      <td>2.1</td>\n",
       "    </tr>\n",
       "    <tr>\n",
       "      <th>129</th>\n",
       "      <td>2</td>\n",
       "      <td>5.8</td>\n",
       "      <td>1.6</td>\n",
       "    </tr>\n",
       "    <tr>\n",
       "      <th>130</th>\n",
       "      <td>2</td>\n",
       "      <td>6.1</td>\n",
       "      <td>1.9</td>\n",
       "    </tr>\n",
       "    <tr>\n",
       "      <th>131</th>\n",
       "      <td>2</td>\n",
       "      <td>6.4</td>\n",
       "      <td>2.0</td>\n",
       "    </tr>\n",
       "    <tr>\n",
       "      <th>132</th>\n",
       "      <td>2</td>\n",
       "      <td>5.6</td>\n",
       "      <td>2.2</td>\n",
       "    </tr>\n",
       "    <tr>\n",
       "      <th>133</th>\n",
       "      <td>2</td>\n",
       "      <td>5.1</td>\n",
       "      <td>1.5</td>\n",
       "    </tr>\n",
       "    <tr>\n",
       "      <th>134</th>\n",
       "      <td>2</td>\n",
       "      <td>5.6</td>\n",
       "      <td>1.4</td>\n",
       "    </tr>\n",
       "    <tr>\n",
       "      <th>135</th>\n",
       "      <td>2</td>\n",
       "      <td>6.1</td>\n",
       "      <td>2.3</td>\n",
       "    </tr>\n",
       "    <tr>\n",
       "      <th>136</th>\n",
       "      <td>2</td>\n",
       "      <td>5.6</td>\n",
       "      <td>2.4</td>\n",
       "    </tr>\n",
       "    <tr>\n",
       "      <th>137</th>\n",
       "      <td>2</td>\n",
       "      <td>5.5</td>\n",
       "      <td>1.8</td>\n",
       "    </tr>\n",
       "    <tr>\n",
       "      <th>138</th>\n",
       "      <td>2</td>\n",
       "      <td>4.8</td>\n",
       "      <td>1.8</td>\n",
       "    </tr>\n",
       "    <tr>\n",
       "      <th>139</th>\n",
       "      <td>2</td>\n",
       "      <td>5.4</td>\n",
       "      <td>2.1</td>\n",
       "    </tr>\n",
       "    <tr>\n",
       "      <th>140</th>\n",
       "      <td>2</td>\n",
       "      <td>5.6</td>\n",
       "      <td>2.4</td>\n",
       "    </tr>\n",
       "    <tr>\n",
       "      <th>141</th>\n",
       "      <td>2</td>\n",
       "      <td>5.1</td>\n",
       "      <td>2.3</td>\n",
       "    </tr>\n",
       "    <tr>\n",
       "      <th>142</th>\n",
       "      <td>2</td>\n",
       "      <td>5.1</td>\n",
       "      <td>1.9</td>\n",
       "    </tr>\n",
       "    <tr>\n",
       "      <th>143</th>\n",
       "      <td>2</td>\n",
       "      <td>5.9</td>\n",
       "      <td>2.3</td>\n",
       "    </tr>\n",
       "    <tr>\n",
       "      <th>144</th>\n",
       "      <td>2</td>\n",
       "      <td>5.7</td>\n",
       "      <td>2.5</td>\n",
       "    </tr>\n",
       "    <tr>\n",
       "      <th>145</th>\n",
       "      <td>2</td>\n",
       "      <td>5.2</td>\n",
       "      <td>2.3</td>\n",
       "    </tr>\n",
       "    <tr>\n",
       "      <th>146</th>\n",
       "      <td>2</td>\n",
       "      <td>5.0</td>\n",
       "      <td>1.9</td>\n",
       "    </tr>\n",
       "    <tr>\n",
       "      <th>147</th>\n",
       "      <td>2</td>\n",
       "      <td>5.2</td>\n",
       "      <td>2.0</td>\n",
       "    </tr>\n",
       "    <tr>\n",
       "      <th>148</th>\n",
       "      <td>2</td>\n",
       "      <td>5.4</td>\n",
       "      <td>2.3</td>\n",
       "    </tr>\n",
       "    <tr>\n",
       "      <th>149</th>\n",
       "      <td>2</td>\n",
       "      <td>5.1</td>\n",
       "      <td>1.8</td>\n",
       "    </tr>\n",
       "  </tbody>\n",
       "</table>\n",
       "<p>150 rows × 3 columns</p>\n",
       "</div>"
      ],
      "text/plain": [
       "     labels  petal length (cm)  petal width (cm)\n",
       "0         0                1.4               0.2\n",
       "1         0                1.4               0.2\n",
       "2         0                1.3               0.2\n",
       "3         0                1.5               0.2\n",
       "4         0                1.4               0.2\n",
       "5         0                1.7               0.4\n",
       "6         0                1.4               0.3\n",
       "7         0                1.5               0.2\n",
       "8         0                1.4               0.2\n",
       "9         0                1.5               0.1\n",
       "10        0                1.5               0.2\n",
       "11        0                1.6               0.2\n",
       "12        0                1.4               0.1\n",
       "13        0                1.1               0.1\n",
       "14        0                1.2               0.2\n",
       "15        0                1.5               0.4\n",
       "16        0                1.3               0.4\n",
       "17        0                1.4               0.3\n",
       "18        0                1.7               0.3\n",
       "19        0                1.5               0.3\n",
       "20        0                1.7               0.2\n",
       "21        0                1.5               0.4\n",
       "22        0                1.0               0.2\n",
       "23        0                1.7               0.5\n",
       "24        0                1.9               0.2\n",
       "25        0                1.6               0.2\n",
       "26        0                1.6               0.4\n",
       "27        0                1.5               0.2\n",
       "28        0                1.4               0.2\n",
       "29        0                1.6               0.2\n",
       "..      ...                ...               ...\n",
       "120       2                5.7               2.3\n",
       "121       2                4.9               2.0\n",
       "122       2                6.7               2.0\n",
       "123       2                4.9               1.8\n",
       "124       2                5.7               2.1\n",
       "125       2                6.0               1.8\n",
       "126       2                4.8               1.8\n",
       "127       2                4.9               1.8\n",
       "128       2                5.6               2.1\n",
       "129       2                5.8               1.6\n",
       "130       2                6.1               1.9\n",
       "131       2                6.4               2.0\n",
       "132       2                5.6               2.2\n",
       "133       2                5.1               1.5\n",
       "134       2                5.6               1.4\n",
       "135       2                6.1               2.3\n",
       "136       2                5.6               2.4\n",
       "137       2                5.5               1.8\n",
       "138       2                4.8               1.8\n",
       "139       2                5.4               2.1\n",
       "140       2                5.6               2.4\n",
       "141       2                5.1               2.3\n",
       "142       2                5.1               1.9\n",
       "143       2                5.9               2.3\n",
       "144       2                5.7               2.5\n",
       "145       2                5.2               2.3\n",
       "146       2                5.0               1.9\n",
       "147       2                5.2               2.0\n",
       "148       2                5.4               2.3\n",
       "149       2                5.1               1.8\n",
       "\n",
       "[150 rows x 3 columns]"
      ]
     },
     "execution_count": 9,
     "metadata": {},
     "output_type": "execute_result"
    }
   ],
   "source": [
    "iris_df"
   ]
  },
  {
   "cell_type": "code",
   "execution_count": 10,
   "metadata": {
    "collapsed": true
   },
   "outputs": [],
   "source": [
    "labels = iris_df['labels'].tolist()"
   ]
  },
  {
   "cell_type": "code",
   "execution_count": 11,
   "metadata": {
    "collapsed": true
   },
   "outputs": [],
   "source": [
    "zipped_columns = zip(iris_df['petal length (cm)'].tolist(), iris_df['petal width (cm)'].tolist())"
   ]
  },
  {
   "cell_type": "code",
   "execution_count": 12,
   "metadata": {
    "collapsed": true
   },
   "outputs": [],
   "source": [
    "features = [{'petal length (cm)': length,\n",
    "             'petal width (cm)': width} for length, width in zipped_columns]"
   ]
  },
  {
   "cell_type": "code",
   "execution_count": 13,
   "metadata": {
    "collapsed": true
   },
   "outputs": [],
   "source": [
    "zipped_iris_data = list(zip(features, labels))"
   ]
  },
  {
   "cell_type": "code",
   "execution_count": 14,
   "metadata": {
    "collapsed": true
   },
   "outputs": [],
   "source": [
    "listy = [0 if i < 50 else 1 for i in range(100)]"
   ]
  },
  {
   "cell_type": "code",
   "execution_count": 15,
   "metadata": {
    "collapsed": true
   },
   "outputs": [],
   "source": [
    "for i in range(50):\n",
    "    listy.append(2)"
   ]
  },
  {
   "cell_type": "code",
   "execution_count": 16,
   "metadata": {
    "collapsed": true
   },
   "outputs": [],
   "source": [
    "zero_dtc = DecisionTreeClassifier(max_depth=1)"
   ]
  },
  {
   "cell_type": "code",
   "execution_count": 17,
   "metadata": {},
   "outputs": [
    {
     "data": {
      "text/plain": [
       "DecisionTreeClassifier(class_weight=None, criterion='gini', max_depth=1,\n",
       "            max_features=None, max_leaf_nodes=None,\n",
       "            min_impurity_decrease=0.0, min_impurity_split=None,\n",
       "            min_samples_leaf=1, min_samples_split=2,\n",
       "            min_weight_fraction_leaf=0.0, presort=False, random_state=None,\n",
       "            splitter='best')"
      ]
     },
     "execution_count": 17,
     "metadata": {},
     "output_type": "execute_result"
    }
   ],
   "source": [
    "zero_dtc.fit(iris_petal_dims, iris.target)"
   ]
  },
  {
   "cell_type": "code",
   "execution_count": 18,
   "metadata": {},
   "outputs": [
    {
     "data": {
      "text/plain": [
       "array([1])"
      ]
     },
     "execution_count": 18,
     "metadata": {},
     "output_type": "execute_result"
    }
   ],
   "source": [
    "zero_dtc.predict([[5, 1.5]])"
   ]
  },
  {
   "cell_type": "code",
   "execution_count": 19,
   "metadata": {
    "collapsed": true
   },
   "outputs": [],
   "source": [
    "new_listy = []\n",
    "for x in range(4):\n",
    "    for i in range(50):\n",
    "        new_listy.append(x)"
   ]
  },
  {
   "cell_type": "code",
   "execution_count": 20,
   "metadata": {},
   "outputs": [
    {
     "data": {
      "text/plain": [
       "0.8333333333333334"
      ]
     },
     "execution_count": 20,
     "metadata": {},
     "output_type": "execute_result"
    }
   ],
   "source": [
    "5/6"
   ]
  },
  {
   "cell_type": "code",
   "execution_count": 21,
   "metadata": {
    "scrolled": true
   },
   "outputs": [
    {
     "data": {
      "text/plain": [
       "0.08333333333333333"
      ]
     },
     "execution_count": 21,
     "metadata": {},
     "output_type": "execute_result"
    }
   ],
   "source": [
    ".1 * 5/6"
   ]
  },
  {
   "cell_type": "code",
   "execution_count": 22,
   "metadata": {},
   "outputs": [
    {
     "data": {
      "text/plain": [
       "0.7916666666666667"
      ]
     },
     "execution_count": 22,
     "metadata": {},
     "output_type": "execute_result"
    }
   ],
   "source": [
    "5/6 - (.05 * 5/6)"
   ]
  },
  {
   "cell_type": "code",
   "execution_count": 23,
   "metadata": {
    "collapsed": true
   },
   "outputs": [],
   "source": [
    "new_listy.append(2)"
   ]
  },
  {
   "cell_type": "code",
   "execution_count": 24,
   "metadata": {
    "collapsed": true
   },
   "outputs": [],
   "source": [
    "from src.decision_tree import DecisionTree"
   ]
  },
  {
   "cell_type": "code",
   "execution_count": 25,
   "metadata": {},
   "outputs": [],
   "source": [
    "dt3 = DecisionTree()"
   ]
  },
  {
   "cell_type": "code",
   "execution_count": 26,
   "metadata": {},
   "outputs": [],
   "source": [
    "dt3.train(zipped_iris_data)"
   ]
  },
  {
   "cell_type": "code",
   "execution_count": 27,
   "metadata": {
    "collapsed": true
   },
   "outputs": [],
   "source": [
    "attempts = [\n",
    "    {'petal length (cm)': 1.4, 'petal width (cm)': 0.2},\n",
    "    {'petal length (cm)': 1.4, 'petal width (cm)': 0.2},\n",
    "    {'petal length (cm)': 1.3, 'petal width (cm)': 0.2},\n",
    "    {'petal length (cm)': 1.5, 'petal width (cm)': 0.2},\n",
    "    {'petal length (cm)': 1.4, 'petal width (cm)': 0.2},\n",
    "    {'petal length (cm)': 5.5, 'petal width (cm)': 1.8},\n",
    "    {'petal length (cm)': 4.5, 'petal width (cm)': 1.6}\n",
    "    \n",
    "]"
   ]
  },
  {
   "cell_type": "code",
   "execution_count": 28,
   "metadata": {
    "scrolled": false
   },
   "outputs": [
    {
     "data": {
      "text/plain": [
       "[0, 0, 0, 0, 0, 2, 1]"
      ]
     },
     "execution_count": 28,
     "metadata": {},
     "output_type": "execute_result"
    }
   ],
   "source": [
    "dt3.predict(attempts)"
   ]
  },
  {
   "cell_type": "code",
   "execution_count": 36,
   "metadata": {},
   "outputs": [],
   "source": [
    "zipped_iris = []\n",
    "for label in zipped_iris_data:\n",
    "    listed_label = list(label)\n",
    "    if label[1] == 0:\n",
    "        listed_label[1] = 'setosa'\n",
    "    elif label[1] == 1:\n",
    "        listed_label[1] = 'versicolor'\n",
    "    else:\n",
    "        listed_label[1] = 'virginica'\n",
    "    zipped_iris.append(tuple(listed_label))"
   ]
  },
  {
   "cell_type": "code",
   "execution_count": 30,
   "metadata": {},
   "outputs": [
    {
     "data": {
      "text/plain": [
       "array(['setosa', 'versicolor', 'virginica'],\n",
       "      dtype='<U10')"
      ]
     },
     "execution_count": 30,
     "metadata": {},
     "output_type": "execute_result"
    }
   ],
   "source": [
    "iris['target_names']"
   ]
  },
  {
   "cell_type": "code",
   "execution_count": 37,
   "metadata": {},
   "outputs": [
    {
     "data": {
      "text/plain": [
       "[({'petal length (cm)': 1.4, 'petal width (cm)': 0.2}, 'setosa'),\n",
       " ({'petal length (cm)': 1.4, 'petal width (cm)': 0.2}, 'setosa'),\n",
       " ({'petal length (cm)': 1.3, 'petal width (cm)': 0.2}, 'setosa'),\n",
       " ({'petal length (cm)': 1.5, 'petal width (cm)': 0.2}, 'setosa'),\n",
       " ({'petal length (cm)': 1.4, 'petal width (cm)': 0.2}, 'setosa'),\n",
       " ({'petal length (cm)': 1.7, 'petal width (cm)': 0.4}, 'setosa'),\n",
       " ({'petal length (cm)': 1.4, 'petal width (cm)': 0.3}, 'setosa'),\n",
       " ({'petal length (cm)': 1.5, 'petal width (cm)': 0.2}, 'setosa'),\n",
       " ({'petal length (cm)': 1.4, 'petal width (cm)': 0.2}, 'setosa'),\n",
       " ({'petal length (cm)': 1.5, 'petal width (cm)': 0.1}, 'setosa'),\n",
       " ({'petal length (cm)': 1.5, 'petal width (cm)': 0.2}, 'setosa'),\n",
       " ({'petal length (cm)': 1.6, 'petal width (cm)': 0.2}, 'setosa'),\n",
       " ({'petal length (cm)': 1.4, 'petal width (cm)': 0.1}, 'setosa'),\n",
       " ({'petal length (cm)': 1.1, 'petal width (cm)': 0.1}, 'setosa'),\n",
       " ({'petal length (cm)': 1.2, 'petal width (cm)': 0.2}, 'setosa'),\n",
       " ({'petal length (cm)': 1.5, 'petal width (cm)': 0.4}, 'setosa'),\n",
       " ({'petal length (cm)': 1.3, 'petal width (cm)': 0.4}, 'setosa'),\n",
       " ({'petal length (cm)': 1.4, 'petal width (cm)': 0.3}, 'setosa'),\n",
       " ({'petal length (cm)': 1.7, 'petal width (cm)': 0.3}, 'setosa'),\n",
       " ({'petal length (cm)': 1.5, 'petal width (cm)': 0.3}, 'setosa'),\n",
       " ({'petal length (cm)': 1.7, 'petal width (cm)': 0.2}, 'setosa'),\n",
       " ({'petal length (cm)': 1.5, 'petal width (cm)': 0.4}, 'setosa'),\n",
       " ({'petal length (cm)': 1.0, 'petal width (cm)': 0.2}, 'setosa'),\n",
       " ({'petal length (cm)': 1.7, 'petal width (cm)': 0.5}, 'setosa'),\n",
       " ({'petal length (cm)': 1.9, 'petal width (cm)': 0.2}, 'setosa'),\n",
       " ({'petal length (cm)': 1.6, 'petal width (cm)': 0.2}, 'setosa'),\n",
       " ({'petal length (cm)': 1.6, 'petal width (cm)': 0.4}, 'setosa'),\n",
       " ({'petal length (cm)': 1.5, 'petal width (cm)': 0.2}, 'setosa'),\n",
       " ({'petal length (cm)': 1.4, 'petal width (cm)': 0.2}, 'setosa'),\n",
       " ({'petal length (cm)': 1.6, 'petal width (cm)': 0.2}, 'setosa'),\n",
       " ({'petal length (cm)': 1.6, 'petal width (cm)': 0.2}, 'setosa'),\n",
       " ({'petal length (cm)': 1.5, 'petal width (cm)': 0.4}, 'setosa'),\n",
       " ({'petal length (cm)': 1.5, 'petal width (cm)': 0.1}, 'setosa'),\n",
       " ({'petal length (cm)': 1.4, 'petal width (cm)': 0.2}, 'setosa'),\n",
       " ({'petal length (cm)': 1.5, 'petal width (cm)': 0.1}, 'setosa'),\n",
       " ({'petal length (cm)': 1.2, 'petal width (cm)': 0.2}, 'setosa'),\n",
       " ({'petal length (cm)': 1.3, 'petal width (cm)': 0.2}, 'setosa'),\n",
       " ({'petal length (cm)': 1.5, 'petal width (cm)': 0.1}, 'setosa'),\n",
       " ({'petal length (cm)': 1.3, 'petal width (cm)': 0.2}, 'setosa'),\n",
       " ({'petal length (cm)': 1.5, 'petal width (cm)': 0.2}, 'setosa'),\n",
       " ({'petal length (cm)': 1.3, 'petal width (cm)': 0.3}, 'setosa'),\n",
       " ({'petal length (cm)': 1.3, 'petal width (cm)': 0.3}, 'setosa'),\n",
       " ({'petal length (cm)': 1.3, 'petal width (cm)': 0.2}, 'setosa'),\n",
       " ({'petal length (cm)': 1.6, 'petal width (cm)': 0.6}, 'setosa'),\n",
       " ({'petal length (cm)': 1.9, 'petal width (cm)': 0.4}, 'setosa'),\n",
       " ({'petal length (cm)': 1.4, 'petal width (cm)': 0.3}, 'setosa'),\n",
       " ({'petal length (cm)': 1.6, 'petal width (cm)': 0.2}, 'setosa'),\n",
       " ({'petal length (cm)': 1.4, 'petal width (cm)': 0.2}, 'setosa'),\n",
       " ({'petal length (cm)': 1.5, 'petal width (cm)': 0.2}, 'setosa'),\n",
       " ({'petal length (cm)': 1.4, 'petal width (cm)': 0.2}, 'setosa'),\n",
       " ({'petal length (cm)': 4.7, 'petal width (cm)': 1.4}, 'versicolor'),\n",
       " ({'petal length (cm)': 4.5, 'petal width (cm)': 1.5}, 'versicolor'),\n",
       " ({'petal length (cm)': 4.9, 'petal width (cm)': 1.5}, 'versicolor'),\n",
       " ({'petal length (cm)': 4.0, 'petal width (cm)': 1.3}, 'versicolor'),\n",
       " ({'petal length (cm)': 4.6, 'petal width (cm)': 1.5}, 'versicolor'),\n",
       " ({'petal length (cm)': 4.5, 'petal width (cm)': 1.3}, 'versicolor'),\n",
       " ({'petal length (cm)': 4.7, 'petal width (cm)': 1.6}, 'versicolor'),\n",
       " ({'petal length (cm)': 3.3, 'petal width (cm)': 1.0}, 'versicolor'),\n",
       " ({'petal length (cm)': 4.6, 'petal width (cm)': 1.3}, 'versicolor'),\n",
       " ({'petal length (cm)': 3.9, 'petal width (cm)': 1.4}, 'versicolor'),\n",
       " ({'petal length (cm)': 3.5, 'petal width (cm)': 1.0}, 'versicolor'),\n",
       " ({'petal length (cm)': 4.2, 'petal width (cm)': 1.5}, 'versicolor'),\n",
       " ({'petal length (cm)': 4.0, 'petal width (cm)': 1.0}, 'versicolor'),\n",
       " ({'petal length (cm)': 4.7, 'petal width (cm)': 1.4}, 'versicolor'),\n",
       " ({'petal length (cm)': 3.6, 'petal width (cm)': 1.3}, 'versicolor'),\n",
       " ({'petal length (cm)': 4.4, 'petal width (cm)': 1.4}, 'versicolor'),\n",
       " ({'petal length (cm)': 4.5, 'petal width (cm)': 1.5}, 'versicolor'),\n",
       " ({'petal length (cm)': 4.1, 'petal width (cm)': 1.0}, 'versicolor'),\n",
       " ({'petal length (cm)': 4.5, 'petal width (cm)': 1.5}, 'versicolor'),\n",
       " ({'petal length (cm)': 3.9, 'petal width (cm)': 1.1}, 'versicolor'),\n",
       " ({'petal length (cm)': 4.8, 'petal width (cm)': 1.8}, 'versicolor'),\n",
       " ({'petal length (cm)': 4.0, 'petal width (cm)': 1.3}, 'versicolor'),\n",
       " ({'petal length (cm)': 4.9, 'petal width (cm)': 1.5}, 'versicolor'),\n",
       " ({'petal length (cm)': 4.7, 'petal width (cm)': 1.2}, 'versicolor'),\n",
       " ({'petal length (cm)': 4.3, 'petal width (cm)': 1.3}, 'versicolor'),\n",
       " ({'petal length (cm)': 4.4, 'petal width (cm)': 1.4}, 'versicolor'),\n",
       " ({'petal length (cm)': 4.8, 'petal width (cm)': 1.4}, 'versicolor'),\n",
       " ({'petal length (cm)': 5.0, 'petal width (cm)': 1.7}, 'versicolor'),\n",
       " ({'petal length (cm)': 4.5, 'petal width (cm)': 1.5}, 'versicolor'),\n",
       " ({'petal length (cm)': 3.5, 'petal width (cm)': 1.0}, 'versicolor'),\n",
       " ({'petal length (cm)': 3.8, 'petal width (cm)': 1.1}, 'versicolor'),\n",
       " ({'petal length (cm)': 3.7, 'petal width (cm)': 1.0}, 'versicolor'),\n",
       " ({'petal length (cm)': 3.9, 'petal width (cm)': 1.2}, 'versicolor'),\n",
       " ({'petal length (cm)': 5.1, 'petal width (cm)': 1.6}, 'versicolor'),\n",
       " ({'petal length (cm)': 4.5, 'petal width (cm)': 1.5}, 'versicolor'),\n",
       " ({'petal length (cm)': 4.5, 'petal width (cm)': 1.6}, 'versicolor'),\n",
       " ({'petal length (cm)': 4.7, 'petal width (cm)': 1.5}, 'versicolor'),\n",
       " ({'petal length (cm)': 4.4, 'petal width (cm)': 1.3}, 'versicolor'),\n",
       " ({'petal length (cm)': 4.1, 'petal width (cm)': 1.3}, 'versicolor'),\n",
       " ({'petal length (cm)': 4.0, 'petal width (cm)': 1.3}, 'versicolor'),\n",
       " ({'petal length (cm)': 4.4, 'petal width (cm)': 1.2}, 'versicolor'),\n",
       " ({'petal length (cm)': 4.6, 'petal width (cm)': 1.4}, 'versicolor'),\n",
       " ({'petal length (cm)': 4.0, 'petal width (cm)': 1.2}, 'versicolor'),\n",
       " ({'petal length (cm)': 3.3, 'petal width (cm)': 1.0}, 'versicolor'),\n",
       " ({'petal length (cm)': 4.2, 'petal width (cm)': 1.3}, 'versicolor'),\n",
       " ({'petal length (cm)': 4.2, 'petal width (cm)': 1.2}, 'versicolor'),\n",
       " ({'petal length (cm)': 4.2, 'petal width (cm)': 1.3}, 'versicolor'),\n",
       " ({'petal length (cm)': 4.3, 'petal width (cm)': 1.3}, 'versicolor'),\n",
       " ({'petal length (cm)': 3.0, 'petal width (cm)': 1.1}, 'versicolor'),\n",
       " ({'petal length (cm)': 4.1, 'petal width (cm)': 1.3}, 'versicolor'),\n",
       " ({'petal length (cm)': 6.0, 'petal width (cm)': 2.5}, 'virginica'),\n",
       " ({'petal length (cm)': 5.1, 'petal width (cm)': 1.9}, 'virginica'),\n",
       " ({'petal length (cm)': 5.9, 'petal width (cm)': 2.1}, 'virginica'),\n",
       " ({'petal length (cm)': 5.6, 'petal width (cm)': 1.8}, 'virginica'),\n",
       " ({'petal length (cm)': 5.8, 'petal width (cm)': 2.2}, 'virginica'),\n",
       " ({'petal length (cm)': 6.6, 'petal width (cm)': 2.1}, 'virginica'),\n",
       " ({'petal length (cm)': 4.5, 'petal width (cm)': 1.7}, 'virginica'),\n",
       " ({'petal length (cm)': 6.3, 'petal width (cm)': 1.8}, 'virginica'),\n",
       " ({'petal length (cm)': 5.8, 'petal width (cm)': 1.8}, 'virginica'),\n",
       " ({'petal length (cm)': 6.1, 'petal width (cm)': 2.5}, 'virginica'),\n",
       " ({'petal length (cm)': 5.1, 'petal width (cm)': 2.0}, 'virginica'),\n",
       " ({'petal length (cm)': 5.3, 'petal width (cm)': 1.9}, 'virginica'),\n",
       " ({'petal length (cm)': 5.5, 'petal width (cm)': 2.1}, 'virginica'),\n",
       " ({'petal length (cm)': 5.0, 'petal width (cm)': 2.0}, 'virginica'),\n",
       " ({'petal length (cm)': 5.1, 'petal width (cm)': 2.4}, 'virginica'),\n",
       " ({'petal length (cm)': 5.3, 'petal width (cm)': 2.3}, 'virginica'),\n",
       " ({'petal length (cm)': 5.5, 'petal width (cm)': 1.8}, 'virginica'),\n",
       " ({'petal length (cm)': 6.7, 'petal width (cm)': 2.2}, 'virginica'),\n",
       " ({'petal length (cm)': 6.9, 'petal width (cm)': 2.3}, 'virginica'),\n",
       " ({'petal length (cm)': 5.0, 'petal width (cm)': 1.5}, 'virginica'),\n",
       " ({'petal length (cm)': 5.7, 'petal width (cm)': 2.3}, 'virginica'),\n",
       " ({'petal length (cm)': 4.9, 'petal width (cm)': 2.0}, 'virginica'),\n",
       " ({'petal length (cm)': 6.7, 'petal width (cm)': 2.0}, 'virginica'),\n",
       " ({'petal length (cm)': 4.9, 'petal width (cm)': 1.8}, 'virginica'),\n",
       " ({'petal length (cm)': 5.7, 'petal width (cm)': 2.1}, 'virginica'),\n",
       " ({'petal length (cm)': 6.0, 'petal width (cm)': 1.8}, 'virginica'),\n",
       " ({'petal length (cm)': 4.8, 'petal width (cm)': 1.8}, 'virginica'),\n",
       " ({'petal length (cm)': 4.9, 'petal width (cm)': 1.8}, 'virginica'),\n",
       " ({'petal length (cm)': 5.6, 'petal width (cm)': 2.1}, 'virginica'),\n",
       " ({'petal length (cm)': 5.8, 'petal width (cm)': 1.6}, 'virginica'),\n",
       " ({'petal length (cm)': 6.1, 'petal width (cm)': 1.9}, 'virginica'),\n",
       " ({'petal length (cm)': 6.4, 'petal width (cm)': 2.0}, 'virginica'),\n",
       " ({'petal length (cm)': 5.6, 'petal width (cm)': 2.2}, 'virginica'),\n",
       " ({'petal length (cm)': 5.1, 'petal width (cm)': 1.5}, 'virginica'),\n",
       " ({'petal length (cm)': 5.6, 'petal width (cm)': 1.4}, 'virginica'),\n",
       " ({'petal length (cm)': 6.1, 'petal width (cm)': 2.3}, 'virginica'),\n",
       " ({'petal length (cm)': 5.6, 'petal width (cm)': 2.4}, 'virginica'),\n",
       " ({'petal length (cm)': 5.5, 'petal width (cm)': 1.8}, 'virginica'),\n",
       " ({'petal length (cm)': 4.8, 'petal width (cm)': 1.8}, 'virginica'),\n",
       " ({'petal length (cm)': 5.4, 'petal width (cm)': 2.1}, 'virginica'),\n",
       " ({'petal length (cm)': 5.6, 'petal width (cm)': 2.4}, 'virginica'),\n",
       " ({'petal length (cm)': 5.1, 'petal width (cm)': 2.3}, 'virginica'),\n",
       " ({'petal length (cm)': 5.1, 'petal width (cm)': 1.9}, 'virginica'),\n",
       " ({'petal length (cm)': 5.9, 'petal width (cm)': 2.3}, 'virginica'),\n",
       " ({'petal length (cm)': 5.7, 'petal width (cm)': 2.5}, 'virginica'),\n",
       " ({'petal length (cm)': 5.2, 'petal width (cm)': 2.3}, 'virginica'),\n",
       " ({'petal length (cm)': 5.0, 'petal width (cm)': 1.9}, 'virginica'),\n",
       " ({'petal length (cm)': 5.2, 'petal width (cm)': 2.0}, 'virginica'),\n",
       " ({'petal length (cm)': 5.4, 'petal width (cm)': 2.3}, 'virginica'),\n",
       " ({'petal length (cm)': 5.1, 'petal width (cm)': 1.8}, 'virginica')]"
      ]
     },
     "execution_count": 37,
     "metadata": {},
     "output_type": "execute_result"
    }
   ],
   "source": [
    "zipped_iris"
   ]
  },
  {
   "cell_type": "code",
   "execution_count": null,
   "metadata": {
    "collapsed": true
   },
   "outputs": [],
   "source": []
  }
 ],
 "metadata": {
  "kernelspec": {
   "display_name": "Python 3",
   "language": "python",
   "name": "python3"
  },
  "language_info": {
   "codemirror_mode": {
    "name": "ipython",
    "version": 3
   },
   "file_extension": ".py",
   "mimetype": "text/x-python",
   "name": "python",
   "nbconvert_exporter": "python",
   "pygments_lexer": "ipython3",
   "version": "3.6.3"
  }
 },
 "nbformat": 4,
 "nbformat_minor": 2
}
