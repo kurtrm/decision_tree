{
 "cells": [
  {
   "cell_type": "code",
   "execution_count": 1,
   "metadata": {
    "collapsed": true
   },
   "outputs": [],
   "source": [
    "import numpy as np\n",
    "import pandas as pd\n",
    "from sklearn.tree import DecisionTreeClassifier\n",
    "from sklearn.datasets import load_iris\n",
    "\n",
    "from IPython.core.interactiveshell import InteractiveShell\n",
    "InteractiveShell.ast_node_interactivity = 'all'"
   ]
  },
  {
   "cell_type": "markdown",
   "metadata": {},
   "source": [
    "This will be a playground for exploring sklearn's Decision Tree Classifier."
   ]
  },
  {
   "cell_type": "code",
   "execution_count": 2,
   "metadata": {
    "collapsed": true
   },
   "outputs": [],
   "source": [
    "iris = load_iris()"
   ]
  },
  {
   "cell_type": "code",
   "execution_count": 3,
   "metadata": {},
   "outputs": [
    {
     "data": {
      "text/plain": [
       "dict_keys(['data', 'target', 'target_names', 'DESCR', 'feature_names'])"
      ]
     },
     "execution_count": 3,
     "metadata": {},
     "output_type": "execute_result"
    }
   ],
   "source": [
    "iris.keys()"
   ]
  },
  {
   "cell_type": "code",
   "execution_count": 4,
   "metadata": {},
   "outputs": [
    {
     "data": {
      "text/plain": [
       "['sepal length (cm)',\n",
       " 'sepal width (cm)',\n",
       " 'petal length (cm)',\n",
       " 'petal width (cm)']"
      ]
     },
     "execution_count": 4,
     "metadata": {},
     "output_type": "execute_result"
    }
   ],
   "source": [
    "iris['feature_names']"
   ]
  },
  {
   "cell_type": "code",
   "execution_count": 5,
   "metadata": {
    "collapsed": true
   },
   "outputs": [],
   "source": [
    "iris_petal_dims = iris['data'][:, 2:]"
   ]
  },
  {
   "cell_type": "code",
   "execution_count": 6,
   "metadata": {},
   "outputs": [
    {
     "data": {
      "text/plain": [
       "numpy.ndarray"
      ]
     },
     "execution_count": 6,
     "metadata": {},
     "output_type": "execute_result"
    }
   ],
   "source": [
    "type(iris_petal_dims)"
   ]
  },
  {
   "cell_type": "code",
   "execution_count": 7,
   "metadata": {
    "collapsed": true
   },
   "outputs": [],
   "source": [
    "iris_dict = {'petal length (cm)': iris_petal_dims[:, 0],\n",
    "             'petal width (cm)': iris_petal_dims[:, 1],\n",
    "             'labels': iris['target']}"
   ]
  },
  {
   "cell_type": "code",
   "execution_count": 8,
   "metadata": {
    "collapsed": true
   },
   "outputs": [],
   "source": [
    "iris_df = pd.DataFrame(iris_dict)"
   ]
  },
  {
   "cell_type": "code",
   "execution_count": 9,
   "metadata": {},
   "outputs": [
    {
     "data": {
      "text/html": [
       "<div>\n",
       "<style>\n",
       "    .dataframe thead tr:only-child th {\n",
       "        text-align: right;\n",
       "    }\n",
       "\n",
       "    .dataframe thead th {\n",
       "        text-align: left;\n",
       "    }\n",
       "\n",
       "    .dataframe tbody tr th {\n",
       "        vertical-align: top;\n",
       "    }\n",
       "</style>\n",
       "<table border=\"1\" class=\"dataframe\">\n",
       "  <thead>\n",
       "    <tr style=\"text-align: right;\">\n",
       "      <th></th>\n",
       "      <th>labels</th>\n",
       "      <th>petal length (cm)</th>\n",
       "      <th>petal width (cm)</th>\n",
       "    </tr>\n",
       "  </thead>\n",
       "  <tbody>\n",
       "    <tr>\n",
       "      <th>0</th>\n",
       "      <td>0</td>\n",
       "      <td>1.4</td>\n",
       "      <td>0.2</td>\n",
       "    </tr>\n",
       "    <tr>\n",
       "      <th>1</th>\n",
       "      <td>0</td>\n",
       "      <td>1.4</td>\n",
       "      <td>0.2</td>\n",
       "    </tr>\n",
       "    <tr>\n",
       "      <th>2</th>\n",
       "      <td>0</td>\n",
       "      <td>1.3</td>\n",
       "      <td>0.2</td>\n",
       "    </tr>\n",
       "    <tr>\n",
       "      <th>3</th>\n",
       "      <td>0</td>\n",
       "      <td>1.5</td>\n",
       "      <td>0.2</td>\n",
       "    </tr>\n",
       "    <tr>\n",
       "      <th>4</th>\n",
       "      <td>0</td>\n",
       "      <td>1.4</td>\n",
       "      <td>0.2</td>\n",
       "    </tr>\n",
       "    <tr>\n",
       "      <th>5</th>\n",
       "      <td>0</td>\n",
       "      <td>1.7</td>\n",
       "      <td>0.4</td>\n",
       "    </tr>\n",
       "    <tr>\n",
       "      <th>6</th>\n",
       "      <td>0</td>\n",
       "      <td>1.4</td>\n",
       "      <td>0.3</td>\n",
       "    </tr>\n",
       "    <tr>\n",
       "      <th>7</th>\n",
       "      <td>0</td>\n",
       "      <td>1.5</td>\n",
       "      <td>0.2</td>\n",
       "    </tr>\n",
       "    <tr>\n",
       "      <th>8</th>\n",
       "      <td>0</td>\n",
       "      <td>1.4</td>\n",
       "      <td>0.2</td>\n",
       "    </tr>\n",
       "    <tr>\n",
       "      <th>9</th>\n",
       "      <td>0</td>\n",
       "      <td>1.5</td>\n",
       "      <td>0.1</td>\n",
       "    </tr>\n",
       "    <tr>\n",
       "      <th>10</th>\n",
       "      <td>0</td>\n",
       "      <td>1.5</td>\n",
       "      <td>0.2</td>\n",
       "    </tr>\n",
       "    <tr>\n",
       "      <th>11</th>\n",
       "      <td>0</td>\n",
       "      <td>1.6</td>\n",
       "      <td>0.2</td>\n",
       "    </tr>\n",
       "    <tr>\n",
       "      <th>12</th>\n",
       "      <td>0</td>\n",
       "      <td>1.4</td>\n",
       "      <td>0.1</td>\n",
       "    </tr>\n",
       "    <tr>\n",
       "      <th>13</th>\n",
       "      <td>0</td>\n",
       "      <td>1.1</td>\n",
       "      <td>0.1</td>\n",
       "    </tr>\n",
       "    <tr>\n",
       "      <th>14</th>\n",
       "      <td>0</td>\n",
       "      <td>1.2</td>\n",
       "      <td>0.2</td>\n",
       "    </tr>\n",
       "    <tr>\n",
       "      <th>15</th>\n",
       "      <td>0</td>\n",
       "      <td>1.5</td>\n",
       "      <td>0.4</td>\n",
       "    </tr>\n",
       "    <tr>\n",
       "      <th>16</th>\n",
       "      <td>0</td>\n",
       "      <td>1.3</td>\n",
       "      <td>0.4</td>\n",
       "    </tr>\n",
       "    <tr>\n",
       "      <th>17</th>\n",
       "      <td>0</td>\n",
       "      <td>1.4</td>\n",
       "      <td>0.3</td>\n",
       "    </tr>\n",
       "    <tr>\n",
       "      <th>18</th>\n",
       "      <td>0</td>\n",
       "      <td>1.7</td>\n",
       "      <td>0.3</td>\n",
       "    </tr>\n",
       "    <tr>\n",
       "      <th>19</th>\n",
       "      <td>0</td>\n",
       "      <td>1.5</td>\n",
       "      <td>0.3</td>\n",
       "    </tr>\n",
       "    <tr>\n",
       "      <th>20</th>\n",
       "      <td>0</td>\n",
       "      <td>1.7</td>\n",
       "      <td>0.2</td>\n",
       "    </tr>\n",
       "    <tr>\n",
       "      <th>21</th>\n",
       "      <td>0</td>\n",
       "      <td>1.5</td>\n",
       "      <td>0.4</td>\n",
       "    </tr>\n",
       "    <tr>\n",
       "      <th>22</th>\n",
       "      <td>0</td>\n",
       "      <td>1.0</td>\n",
       "      <td>0.2</td>\n",
       "    </tr>\n",
       "    <tr>\n",
       "      <th>23</th>\n",
       "      <td>0</td>\n",
       "      <td>1.7</td>\n",
       "      <td>0.5</td>\n",
       "    </tr>\n",
       "    <tr>\n",
       "      <th>24</th>\n",
       "      <td>0</td>\n",
       "      <td>1.9</td>\n",
       "      <td>0.2</td>\n",
       "    </tr>\n",
       "    <tr>\n",
       "      <th>25</th>\n",
       "      <td>0</td>\n",
       "      <td>1.6</td>\n",
       "      <td>0.2</td>\n",
       "    </tr>\n",
       "    <tr>\n",
       "      <th>26</th>\n",
       "      <td>0</td>\n",
       "      <td>1.6</td>\n",
       "      <td>0.4</td>\n",
       "    </tr>\n",
       "    <tr>\n",
       "      <th>27</th>\n",
       "      <td>0</td>\n",
       "      <td>1.5</td>\n",
       "      <td>0.2</td>\n",
       "    </tr>\n",
       "    <tr>\n",
       "      <th>28</th>\n",
       "      <td>0</td>\n",
       "      <td>1.4</td>\n",
       "      <td>0.2</td>\n",
       "    </tr>\n",
       "    <tr>\n",
       "      <th>29</th>\n",
       "      <td>0</td>\n",
       "      <td>1.6</td>\n",
       "      <td>0.2</td>\n",
       "    </tr>\n",
       "    <tr>\n",
       "      <th>...</th>\n",
       "      <td>...</td>\n",
       "      <td>...</td>\n",
       "      <td>...</td>\n",
       "    </tr>\n",
       "    <tr>\n",
       "      <th>120</th>\n",
       "      <td>2</td>\n",
       "      <td>5.7</td>\n",
       "      <td>2.3</td>\n",
       "    </tr>\n",
       "    <tr>\n",
       "      <th>121</th>\n",
       "      <td>2</td>\n",
       "      <td>4.9</td>\n",
       "      <td>2.0</td>\n",
       "    </tr>\n",
       "    <tr>\n",
       "      <th>122</th>\n",
       "      <td>2</td>\n",
       "      <td>6.7</td>\n",
       "      <td>2.0</td>\n",
       "    </tr>\n",
       "    <tr>\n",
       "      <th>123</th>\n",
       "      <td>2</td>\n",
       "      <td>4.9</td>\n",
       "      <td>1.8</td>\n",
       "    </tr>\n",
       "    <tr>\n",
       "      <th>124</th>\n",
       "      <td>2</td>\n",
       "      <td>5.7</td>\n",
       "      <td>2.1</td>\n",
       "    </tr>\n",
       "    <tr>\n",
       "      <th>125</th>\n",
       "      <td>2</td>\n",
       "      <td>6.0</td>\n",
       "      <td>1.8</td>\n",
       "    </tr>\n",
       "    <tr>\n",
       "      <th>126</th>\n",
       "      <td>2</td>\n",
       "      <td>4.8</td>\n",
       "      <td>1.8</td>\n",
       "    </tr>\n",
       "    <tr>\n",
       "      <th>127</th>\n",
       "      <td>2</td>\n",
       "      <td>4.9</td>\n",
       "      <td>1.8</td>\n",
       "    </tr>\n",
       "    <tr>\n",
       "      <th>128</th>\n",
       "      <td>2</td>\n",
       "      <td>5.6</td>\n",
       "      <td>2.1</td>\n",
       "    </tr>\n",
       "    <tr>\n",
       "      <th>129</th>\n",
       "      <td>2</td>\n",
       "      <td>5.8</td>\n",
       "      <td>1.6</td>\n",
       "    </tr>\n",
       "    <tr>\n",
       "      <th>130</th>\n",
       "      <td>2</td>\n",
       "      <td>6.1</td>\n",
       "      <td>1.9</td>\n",
       "    </tr>\n",
       "    <tr>\n",
       "      <th>131</th>\n",
       "      <td>2</td>\n",
       "      <td>6.4</td>\n",
       "      <td>2.0</td>\n",
       "    </tr>\n",
       "    <tr>\n",
       "      <th>132</th>\n",
       "      <td>2</td>\n",
       "      <td>5.6</td>\n",
       "      <td>2.2</td>\n",
       "    </tr>\n",
       "    <tr>\n",
       "      <th>133</th>\n",
       "      <td>2</td>\n",
       "      <td>5.1</td>\n",
       "      <td>1.5</td>\n",
       "    </tr>\n",
       "    <tr>\n",
       "      <th>134</th>\n",
       "      <td>2</td>\n",
       "      <td>5.6</td>\n",
       "      <td>1.4</td>\n",
       "    </tr>\n",
       "    <tr>\n",
       "      <th>135</th>\n",
       "      <td>2</td>\n",
       "      <td>6.1</td>\n",
       "      <td>2.3</td>\n",
       "    </tr>\n",
       "    <tr>\n",
       "      <th>136</th>\n",
       "      <td>2</td>\n",
       "      <td>5.6</td>\n",
       "      <td>2.4</td>\n",
       "    </tr>\n",
       "    <tr>\n",
       "      <th>137</th>\n",
       "      <td>2</td>\n",
       "      <td>5.5</td>\n",
       "      <td>1.8</td>\n",
       "    </tr>\n",
       "    <tr>\n",
       "      <th>138</th>\n",
       "      <td>2</td>\n",
       "      <td>4.8</td>\n",
       "      <td>1.8</td>\n",
       "    </tr>\n",
       "    <tr>\n",
       "      <th>139</th>\n",
       "      <td>2</td>\n",
       "      <td>5.4</td>\n",
       "      <td>2.1</td>\n",
       "    </tr>\n",
       "    <tr>\n",
       "      <th>140</th>\n",
       "      <td>2</td>\n",
       "      <td>5.6</td>\n",
       "      <td>2.4</td>\n",
       "    </tr>\n",
       "    <tr>\n",
       "      <th>141</th>\n",
       "      <td>2</td>\n",
       "      <td>5.1</td>\n",
       "      <td>2.3</td>\n",
       "    </tr>\n",
       "    <tr>\n",
       "      <th>142</th>\n",
       "      <td>2</td>\n",
       "      <td>5.1</td>\n",
       "      <td>1.9</td>\n",
       "    </tr>\n",
       "    <tr>\n",
       "      <th>143</th>\n",
       "      <td>2</td>\n",
       "      <td>5.9</td>\n",
       "      <td>2.3</td>\n",
       "    </tr>\n",
       "    <tr>\n",
       "      <th>144</th>\n",
       "      <td>2</td>\n",
       "      <td>5.7</td>\n",
       "      <td>2.5</td>\n",
       "    </tr>\n",
       "    <tr>\n",
       "      <th>145</th>\n",
       "      <td>2</td>\n",
       "      <td>5.2</td>\n",
       "      <td>2.3</td>\n",
       "    </tr>\n",
       "    <tr>\n",
       "      <th>146</th>\n",
       "      <td>2</td>\n",
       "      <td>5.0</td>\n",
       "      <td>1.9</td>\n",
       "    </tr>\n",
       "    <tr>\n",
       "      <th>147</th>\n",
       "      <td>2</td>\n",
       "      <td>5.2</td>\n",
       "      <td>2.0</td>\n",
       "    </tr>\n",
       "    <tr>\n",
       "      <th>148</th>\n",
       "      <td>2</td>\n",
       "      <td>5.4</td>\n",
       "      <td>2.3</td>\n",
       "    </tr>\n",
       "    <tr>\n",
       "      <th>149</th>\n",
       "      <td>2</td>\n",
       "      <td>5.1</td>\n",
       "      <td>1.8</td>\n",
       "    </tr>\n",
       "  </tbody>\n",
       "</table>\n",
       "<p>150 rows × 3 columns</p>\n",
       "</div>"
      ],
      "text/plain": [
       "     labels  petal length (cm)  petal width (cm)\n",
       "0         0                1.4               0.2\n",
       "1         0                1.4               0.2\n",
       "2         0                1.3               0.2\n",
       "3         0                1.5               0.2\n",
       "4         0                1.4               0.2\n",
       "5         0                1.7               0.4\n",
       "6         0                1.4               0.3\n",
       "7         0                1.5               0.2\n",
       "8         0                1.4               0.2\n",
       "9         0                1.5               0.1\n",
       "10        0                1.5               0.2\n",
       "11        0                1.6               0.2\n",
       "12        0                1.4               0.1\n",
       "13        0                1.1               0.1\n",
       "14        0                1.2               0.2\n",
       "15        0                1.5               0.4\n",
       "16        0                1.3               0.4\n",
       "17        0                1.4               0.3\n",
       "18        0                1.7               0.3\n",
       "19        0                1.5               0.3\n",
       "20        0                1.7               0.2\n",
       "21        0                1.5               0.4\n",
       "22        0                1.0               0.2\n",
       "23        0                1.7               0.5\n",
       "24        0                1.9               0.2\n",
       "25        0                1.6               0.2\n",
       "26        0                1.6               0.4\n",
       "27        0                1.5               0.2\n",
       "28        0                1.4               0.2\n",
       "29        0                1.6               0.2\n",
       "..      ...                ...               ...\n",
       "120       2                5.7               2.3\n",
       "121       2                4.9               2.0\n",
       "122       2                6.7               2.0\n",
       "123       2                4.9               1.8\n",
       "124       2                5.7               2.1\n",
       "125       2                6.0               1.8\n",
       "126       2                4.8               1.8\n",
       "127       2                4.9               1.8\n",
       "128       2                5.6               2.1\n",
       "129       2                5.8               1.6\n",
       "130       2                6.1               1.9\n",
       "131       2                6.4               2.0\n",
       "132       2                5.6               2.2\n",
       "133       2                5.1               1.5\n",
       "134       2                5.6               1.4\n",
       "135       2                6.1               2.3\n",
       "136       2                5.6               2.4\n",
       "137       2                5.5               1.8\n",
       "138       2                4.8               1.8\n",
       "139       2                5.4               2.1\n",
       "140       2                5.6               2.4\n",
       "141       2                5.1               2.3\n",
       "142       2                5.1               1.9\n",
       "143       2                5.9               2.3\n",
       "144       2                5.7               2.5\n",
       "145       2                5.2               2.3\n",
       "146       2                5.0               1.9\n",
       "147       2                5.2               2.0\n",
       "148       2                5.4               2.3\n",
       "149       2                5.1               1.8\n",
       "\n",
       "[150 rows x 3 columns]"
      ]
     },
     "execution_count": 9,
     "metadata": {},
     "output_type": "execute_result"
    }
   ],
   "source": [
    "iris_df"
   ]
  },
  {
   "cell_type": "code",
   "execution_count": 10,
   "metadata": {
    "collapsed": true
   },
   "outputs": [],
   "source": [
    "from collections import Counter\n",
    "def _gini(labels):\n",
    "    \"\"\"\n",
    "    Calculates the gini impurity for a set of labels.\n",
    "    \"\"\"\n",
    "    total = len(labels)\n",
    "    label_counts = Counter(labels).values()\n",
    "    return 1 - sum((p / total)**2\n",
    "                   for p in label_counts\n",
    "                   if p)"
   ]
  },
  {
   "cell_type": "code",
   "execution_count": 11,
   "metadata": {
    "collapsed": true
   },
   "outputs": [],
   "source": [
    "labels = _gini(iris_df['labels'])"
   ]
  },
  {
   "cell_type": "code",
   "execution_count": 12,
   "metadata": {},
   "outputs": [
    {
     "data": {
      "text/plain": [
       "0.6666666666666667"
      ]
     },
     "execution_count": 12,
     "metadata": {},
     "output_type": "execute_result"
    }
   ],
   "source": [
    "labels"
   ]
  },
  {
   "cell_type": "code",
   "execution_count": 17,
   "metadata": {
    "collapsed": true
   },
   "outputs": [],
   "source": [
    "newy = []\n",
    "minim = []\n",
    "cost_min = float('inf')\n",
    "for x in np.arange(.2, 7, .1):\n",
    "    left = iris_df[iris_df['petal length (cm)'] <= x]['labels']\n",
    "    right = iris_df[~(iris_df['petal length (cm)'] <= x)]['labels']\n",
    "    cost = len(left) * _gini(left) / 150 + len(right) * _gini(right) / 150\n",
    "    if cost < cost_min:\n",
    "        cost_min = cost\n",
    "        minim = []\n",
    "    elif cost == cost_min:\n",
    "        minim.append(x)\n",
    "    newy.append(cost)"
   ]
  },
  {
   "cell_type": "code",
   "execution_count": 18,
   "metadata": {},
   "outputs": [
    {
     "data": {
      "text/plain": [
       "0.3333333333333333"
      ]
     },
     "execution_count": 18,
     "metadata": {},
     "output_type": "execute_result"
    }
   ],
   "source": [
    "cost_min"
   ]
  },
  {
   "cell_type": "code",
   "execution_count": 19,
   "metadata": {},
   "outputs": [
    {
     "data": {
      "text/plain": [
       "2.4500000000000011"
      ]
     },
     "execution_count": 19,
     "metadata": {},
     "output_type": "execute_result"
    }
   ],
   "source": [
    "np.mean(minim)"
   ]
  },
  {
   "cell_type": "code",
   "execution_count": 20,
   "metadata": {
    "collapsed": true
   },
   "outputs": [],
   "source": [
    "def _gini_cost(labeled_data, feature_name):\n",
    "    \"\"\"\n",
    "    Calculate the cost function as part of the CART algorithm.\n",
    "    \"\"\"\n",
    "    minim = []\n",
    "    cost_min = float('inf')\n",
    "    len_labeled_data = len(labeled_data)\n",
    "    feature_data = [row[0][feature_name] for row in labeled_data]\n",
    "    max_feature = int(max(feature_data)) * 100\n",
    "    min_feature = int(min(feature_data)) * 100\n",
    "    feature_range = max_feature - min_feature\n",
    "    span = (i / 100 for i in range(min_feature, max_feature + 1))\n",
    "    for x in span:\n",
    "        left = []\n",
    "        right = []\n",
    "        for i, num in enumerate(feature_data):\n",
    "            if num <= x:\n",
    "                left.append(i)\n",
    "            else:\n",
    "                right.append(i)\n",
    "        left_labels = [labeled_data[idx][1] for idx in left]\n",
    "        right_labels = [labeled_data[idx][1] for idx in right]\n",
    "        cost = len(left_labels) * _gini(left_labels) / len_labeled_data + len(right_labels) * _gini(right_labels) / len_labeled_data\n",
    "        if cost < cost_min:\n",
    "            cost_min = cost\n",
    "            minim = []\n",
    "            minim.append(x)\n",
    "            left_node = [labeled_data[idx] for idx in left]\n",
    "            right_node = [labeled_data[idx] for idx in right]\n",
    "        elif cost == cost_min:\n",
    "            minim.append(x)\n",
    "    avg_minimums = sum(minim) / len(minim)\n",
    "    return avg_minimums, left_node, right_node"
   ]
  },
  {
   "cell_type": "code",
   "execution_count": 21,
   "metadata": {
    "collapsed": true
   },
   "outputs": [],
   "source": [
    "labels = iris_df['labels'].tolist()"
   ]
  },
  {
   "cell_type": "code",
   "execution_count": 22,
   "metadata": {
    "collapsed": true
   },
   "outputs": [],
   "source": [
    "zipped_columns = zip(iris_df['petal length (cm)'].tolist(), iris_df['petal width (cm)'].tolist())"
   ]
  },
  {
   "cell_type": "code",
   "execution_count": 23,
   "metadata": {
    "collapsed": true
   },
   "outputs": [],
   "source": [
    "features = [{'petal length (cm)': length,\n",
    "             'petal width (cm)': width} for length, width in zipped_columns]"
   ]
  },
  {
   "cell_type": "code",
   "execution_count": 24,
   "metadata": {
    "collapsed": true
   },
   "outputs": [],
   "source": [
    "zipped_iris_data = list(zip(features, labels))"
   ]
  },
  {
   "cell_type": "code",
   "execution_count": 25,
   "metadata": {
    "collapsed": true,
    "scrolled": true
   },
   "outputs": [],
   "source": [
    "avgs, left, right =_gini_cost(zipped_iris_data, 'petal length (cm)')"
   ]
  },
  {
   "cell_type": "code",
   "execution_count": 26,
   "metadata": {
    "collapsed": true
   },
   "outputs": [],
   "source": [
    "class_labels = [i[1] for i in left]"
   ]
  },
  {
   "cell_type": "code",
   "execution_count": 27,
   "metadata": {
    "collapsed": true
   },
   "outputs": [],
   "source": [
    "from collections import Counter"
   ]
  },
  {
   "cell_type": "code",
   "execution_count": null,
   "metadata": {
    "collapsed": true
   },
   "outputs": [],
   "source": []
  },
  {
   "cell_type": "code",
   "execution_count": 28,
   "metadata": {},
   "outputs": [
    {
     "data": {
      "text/plain": [
       "Counter({0: 50})"
      ]
     },
     "execution_count": 28,
     "metadata": {},
     "output_type": "execute_result"
    }
   ],
   "source": [
    "Counter(class_labels)"
   ]
  },
  {
   "cell_type": "code",
   "execution_count": 29,
   "metadata": {
    "collapsed": true
   },
   "outputs": [],
   "source": [
    "listy = [0 if i < 50 else 1 for i in range(100)]"
   ]
  },
  {
   "cell_type": "code",
   "execution_count": 30,
   "metadata": {
    "collapsed": true
   },
   "outputs": [],
   "source": [
    "for i in range(50):\n",
    "    listy.append(2)"
   ]
  },
  {
   "cell_type": "code",
   "execution_count": 31,
   "metadata": {
    "scrolled": true
   },
   "outputs": [
    {
     "data": {
      "text/plain": [
       "0.6666666666666667"
      ]
     },
     "execution_count": 31,
     "metadata": {},
     "output_type": "execute_result"
    }
   ],
   "source": [
    "_gini(listy)"
   ]
  },
  {
   "cell_type": "code",
   "execution_count": 34,
   "metadata": {
    "collapsed": true
   },
   "outputs": [],
   "source": [
    "zero_dtc = DecisionTreeClassifier(max_depth=1)"
   ]
  },
  {
   "cell_type": "code",
   "execution_count": 35,
   "metadata": {},
   "outputs": [
    {
     "data": {
      "text/plain": [
       "DecisionTreeClassifier(class_weight=None, criterion='gini', max_depth=1,\n",
       "            max_features=None, max_leaf_nodes=None,\n",
       "            min_impurity_decrease=0.0, min_impurity_split=None,\n",
       "            min_samples_leaf=1, min_samples_split=2,\n",
       "            min_weight_fraction_leaf=0.0, presort=False, random_state=None,\n",
       "            splitter='best')"
      ]
     },
     "execution_count": 35,
     "metadata": {},
     "output_type": "execute_result"
    }
   ],
   "source": [
    "zero_dtc.fit(iris_petal_dims, iris.target)"
   ]
  },
  {
   "cell_type": "code",
   "execution_count": 36,
   "metadata": {},
   "outputs": [
    {
     "data": {
      "text/plain": [
       "array([1])"
      ]
     },
     "execution_count": 36,
     "metadata": {},
     "output_type": "execute_result"
    }
   ],
   "source": [
    "zero_dtc.predict([[5, 1.5]])"
   ]
  },
  {
   "cell_type": "code",
   "execution_count": null,
   "metadata": {},
   "outputs": [],
   "source": [
    "import sys\n",
    "sys.path.remove('c:\\\\users\\\\kurtrm\\\\projects\\\\phone_network_graph')"
   ]
  },
  {
   "cell_type": "code",
   "execution_count": 38,
   "metadata": {},
   "outputs": [
    {
     "data": {
      "text/plain": [
       "[({'petal length (cm)': 1.4, 'petal width (cm)': 0.2}, 0),\n",
       " ({'petal length (cm)': 1.4, 'petal width (cm)': 0.2}, 0),\n",
       " ({'petal length (cm)': 1.3, 'petal width (cm)': 0.2}, 0),\n",
       " ({'petal length (cm)': 1.5, 'petal width (cm)': 0.2}, 0),\n",
       " ({'petal length (cm)': 1.4, 'petal width (cm)': 0.2}, 0),\n",
       " ({'petal length (cm)': 1.7, 'petal width (cm)': 0.4}, 0),\n",
       " ({'petal length (cm)': 1.4, 'petal width (cm)': 0.3}, 0),\n",
       " ({'petal length (cm)': 1.5, 'petal width (cm)': 0.2}, 0),\n",
       " ({'petal length (cm)': 1.4, 'petal width (cm)': 0.2}, 0),\n",
       " ({'petal length (cm)': 1.5, 'petal width (cm)': 0.1}, 0),\n",
       " ({'petal length (cm)': 1.5, 'petal width (cm)': 0.2}, 0),\n",
       " ({'petal length (cm)': 1.6, 'petal width (cm)': 0.2}, 0),\n",
       " ({'petal length (cm)': 1.4, 'petal width (cm)': 0.1}, 0),\n",
       " ({'petal length (cm)': 1.1, 'petal width (cm)': 0.1}, 0),\n",
       " ({'petal length (cm)': 1.2, 'petal width (cm)': 0.2}, 0),\n",
       " ({'petal length (cm)': 1.5, 'petal width (cm)': 0.4}, 0),\n",
       " ({'petal length (cm)': 1.3, 'petal width (cm)': 0.4}, 0),\n",
       " ({'petal length (cm)': 1.4, 'petal width (cm)': 0.3}, 0),\n",
       " ({'petal length (cm)': 1.7, 'petal width (cm)': 0.3}, 0),\n",
       " ({'petal length (cm)': 1.5, 'petal width (cm)': 0.3}, 0),\n",
       " ({'petal length (cm)': 1.7, 'petal width (cm)': 0.2}, 0),\n",
       " ({'petal length (cm)': 1.5, 'petal width (cm)': 0.4}, 0),\n",
       " ({'petal length (cm)': 1.0, 'petal width (cm)': 0.2}, 0),\n",
       " ({'petal length (cm)': 1.7, 'petal width (cm)': 0.5}, 0),\n",
       " ({'petal length (cm)': 1.9, 'petal width (cm)': 0.2}, 0),\n",
       " ({'petal length (cm)': 1.6, 'petal width (cm)': 0.2}, 0),\n",
       " ({'petal length (cm)': 1.6, 'petal width (cm)': 0.4}, 0),\n",
       " ({'petal length (cm)': 1.5, 'petal width (cm)': 0.2}, 0),\n",
       " ({'petal length (cm)': 1.4, 'petal width (cm)': 0.2}, 0),\n",
       " ({'petal length (cm)': 1.6, 'petal width (cm)': 0.2}, 0),\n",
       " ({'petal length (cm)': 1.6, 'petal width (cm)': 0.2}, 0),\n",
       " ({'petal length (cm)': 1.5, 'petal width (cm)': 0.4}, 0),\n",
       " ({'petal length (cm)': 1.5, 'petal width (cm)': 0.1}, 0),\n",
       " ({'petal length (cm)': 1.4, 'petal width (cm)': 0.2}, 0),\n",
       " ({'petal length (cm)': 1.5, 'petal width (cm)': 0.1}, 0),\n",
       " ({'petal length (cm)': 1.2, 'petal width (cm)': 0.2}, 0),\n",
       " ({'petal length (cm)': 1.3, 'petal width (cm)': 0.2}, 0),\n",
       " ({'petal length (cm)': 1.5, 'petal width (cm)': 0.1}, 0),\n",
       " ({'petal length (cm)': 1.3, 'petal width (cm)': 0.2}, 0),\n",
       " ({'petal length (cm)': 1.5, 'petal width (cm)': 0.2}, 0),\n",
       " ({'petal length (cm)': 1.3, 'petal width (cm)': 0.3}, 0),\n",
       " ({'petal length (cm)': 1.3, 'petal width (cm)': 0.3}, 0),\n",
       " ({'petal length (cm)': 1.3, 'petal width (cm)': 0.2}, 0),\n",
       " ({'petal length (cm)': 1.6, 'petal width (cm)': 0.6}, 0),\n",
       " ({'petal length (cm)': 1.9, 'petal width (cm)': 0.4}, 0),\n",
       " ({'petal length (cm)': 1.4, 'petal width (cm)': 0.3}, 0),\n",
       " ({'petal length (cm)': 1.6, 'petal width (cm)': 0.2}, 0),\n",
       " ({'petal length (cm)': 1.4, 'petal width (cm)': 0.2}, 0),\n",
       " ({'petal length (cm)': 1.5, 'petal width (cm)': 0.2}, 0),\n",
       " ({'petal length (cm)': 1.4, 'petal width (cm)': 0.2}, 0),\n",
       " ({'petal length (cm)': 4.7, 'petal width (cm)': 1.4}, 1),\n",
       " ({'petal length (cm)': 4.5, 'petal width (cm)': 1.5}, 1),\n",
       " ({'petal length (cm)': 4.9, 'petal width (cm)': 1.5}, 1),\n",
       " ({'petal length (cm)': 4.0, 'petal width (cm)': 1.3}, 1),\n",
       " ({'petal length (cm)': 4.6, 'petal width (cm)': 1.5}, 1),\n",
       " ({'petal length (cm)': 4.5, 'petal width (cm)': 1.3}, 1),\n",
       " ({'petal length (cm)': 4.7, 'petal width (cm)': 1.6}, 1),\n",
       " ({'petal length (cm)': 3.3, 'petal width (cm)': 1.0}, 1),\n",
       " ({'petal length (cm)': 4.6, 'petal width (cm)': 1.3}, 1),\n",
       " ({'petal length (cm)': 3.9, 'petal width (cm)': 1.4}, 1),\n",
       " ({'petal length (cm)': 3.5, 'petal width (cm)': 1.0}, 1),\n",
       " ({'petal length (cm)': 4.2, 'petal width (cm)': 1.5}, 1),\n",
       " ({'petal length (cm)': 4.0, 'petal width (cm)': 1.0}, 1),\n",
       " ({'petal length (cm)': 4.7, 'petal width (cm)': 1.4}, 1),\n",
       " ({'petal length (cm)': 3.6, 'petal width (cm)': 1.3}, 1),\n",
       " ({'petal length (cm)': 4.4, 'petal width (cm)': 1.4}, 1),\n",
       " ({'petal length (cm)': 4.5, 'petal width (cm)': 1.5}, 1),\n",
       " ({'petal length (cm)': 4.1, 'petal width (cm)': 1.0}, 1),\n",
       " ({'petal length (cm)': 4.5, 'petal width (cm)': 1.5}, 1),\n",
       " ({'petal length (cm)': 3.9, 'petal width (cm)': 1.1}, 1),\n",
       " ({'petal length (cm)': 4.8, 'petal width (cm)': 1.8}, 1),\n",
       " ({'petal length (cm)': 4.0, 'petal width (cm)': 1.3}, 1),\n",
       " ({'petal length (cm)': 4.9, 'petal width (cm)': 1.5}, 1),\n",
       " ({'petal length (cm)': 4.7, 'petal width (cm)': 1.2}, 1),\n",
       " ({'petal length (cm)': 4.3, 'petal width (cm)': 1.3}, 1),\n",
       " ({'petal length (cm)': 4.4, 'petal width (cm)': 1.4}, 1),\n",
       " ({'petal length (cm)': 4.8, 'petal width (cm)': 1.4}, 1),\n",
       " ({'petal length (cm)': 5.0, 'petal width (cm)': 1.7}, 1),\n",
       " ({'petal length (cm)': 4.5, 'petal width (cm)': 1.5}, 1),\n",
       " ({'petal length (cm)': 3.5, 'petal width (cm)': 1.0}, 1),\n",
       " ({'petal length (cm)': 3.8, 'petal width (cm)': 1.1}, 1),\n",
       " ({'petal length (cm)': 3.7, 'petal width (cm)': 1.0}, 1),\n",
       " ({'petal length (cm)': 3.9, 'petal width (cm)': 1.2}, 1),\n",
       " ({'petal length (cm)': 5.1, 'petal width (cm)': 1.6}, 1),\n",
       " ({'petal length (cm)': 4.5, 'petal width (cm)': 1.5}, 1),\n",
       " ({'petal length (cm)': 4.5, 'petal width (cm)': 1.6}, 1),\n",
       " ({'petal length (cm)': 4.7, 'petal width (cm)': 1.5}, 1),\n",
       " ({'petal length (cm)': 4.4, 'petal width (cm)': 1.3}, 1),\n",
       " ({'petal length (cm)': 4.1, 'petal width (cm)': 1.3}, 1),\n",
       " ({'petal length (cm)': 4.0, 'petal width (cm)': 1.3}, 1),\n",
       " ({'petal length (cm)': 4.4, 'petal width (cm)': 1.2}, 1),\n",
       " ({'petal length (cm)': 4.6, 'petal width (cm)': 1.4}, 1),\n",
       " ({'petal length (cm)': 4.0, 'petal width (cm)': 1.2}, 1),\n",
       " ({'petal length (cm)': 3.3, 'petal width (cm)': 1.0}, 1),\n",
       " ({'petal length (cm)': 4.2, 'petal width (cm)': 1.3}, 1),\n",
       " ({'petal length (cm)': 4.2, 'petal width (cm)': 1.2}, 1),\n",
       " ({'petal length (cm)': 4.2, 'petal width (cm)': 1.3}, 1),\n",
       " ({'petal length (cm)': 4.3, 'petal width (cm)': 1.3}, 1),\n",
       " ({'petal length (cm)': 3.0, 'petal width (cm)': 1.1}, 1),\n",
       " ({'petal length (cm)': 4.1, 'petal width (cm)': 1.3}, 1),\n",
       " ({'petal length (cm)': 6.0, 'petal width (cm)': 2.5}, 2),\n",
       " ({'petal length (cm)': 5.1, 'petal width (cm)': 1.9}, 2),\n",
       " ({'petal length (cm)': 5.9, 'petal width (cm)': 2.1}, 2),\n",
       " ({'petal length (cm)': 5.6, 'petal width (cm)': 1.8}, 2),\n",
       " ({'petal length (cm)': 5.8, 'petal width (cm)': 2.2}, 2),\n",
       " ({'petal length (cm)': 6.6, 'petal width (cm)': 2.1}, 2),\n",
       " ({'petal length (cm)': 4.5, 'petal width (cm)': 1.7}, 2),\n",
       " ({'petal length (cm)': 6.3, 'petal width (cm)': 1.8}, 2),\n",
       " ({'petal length (cm)': 5.8, 'petal width (cm)': 1.8}, 2),\n",
       " ({'petal length (cm)': 6.1, 'petal width (cm)': 2.5}, 2),\n",
       " ({'petal length (cm)': 5.1, 'petal width (cm)': 2.0}, 2),\n",
       " ({'petal length (cm)': 5.3, 'petal width (cm)': 1.9}, 2),\n",
       " ({'petal length (cm)': 5.5, 'petal width (cm)': 2.1}, 2),\n",
       " ({'petal length (cm)': 5.0, 'petal width (cm)': 2.0}, 2),\n",
       " ({'petal length (cm)': 5.1, 'petal width (cm)': 2.4}, 2),\n",
       " ({'petal length (cm)': 5.3, 'petal width (cm)': 2.3}, 2),\n",
       " ({'petal length (cm)': 5.5, 'petal width (cm)': 1.8}, 2),\n",
       " ({'petal length (cm)': 6.7, 'petal width (cm)': 2.2}, 2),\n",
       " ({'petal length (cm)': 6.9, 'petal width (cm)': 2.3}, 2),\n",
       " ({'petal length (cm)': 5.0, 'petal width (cm)': 1.5}, 2),\n",
       " ({'petal length (cm)': 5.7, 'petal width (cm)': 2.3}, 2),\n",
       " ({'petal length (cm)': 4.9, 'petal width (cm)': 2.0}, 2),\n",
       " ({'petal length (cm)': 6.7, 'petal width (cm)': 2.0}, 2),\n",
       " ({'petal length (cm)': 4.9, 'petal width (cm)': 1.8}, 2),\n",
       " ({'petal length (cm)': 5.7, 'petal width (cm)': 2.1}, 2),\n",
       " ({'petal length (cm)': 6.0, 'petal width (cm)': 1.8}, 2),\n",
       " ({'petal length (cm)': 4.8, 'petal width (cm)': 1.8}, 2),\n",
       " ({'petal length (cm)': 4.9, 'petal width (cm)': 1.8}, 2),\n",
       " ({'petal length (cm)': 5.6, 'petal width (cm)': 2.1}, 2),\n",
       " ({'petal length (cm)': 5.8, 'petal width (cm)': 1.6}, 2),\n",
       " ({'petal length (cm)': 6.1, 'petal width (cm)': 1.9}, 2),\n",
       " ({'petal length (cm)': 6.4, 'petal width (cm)': 2.0}, 2),\n",
       " ({'petal length (cm)': 5.6, 'petal width (cm)': 2.2}, 2),\n",
       " ({'petal length (cm)': 5.1, 'petal width (cm)': 1.5}, 2),\n",
       " ({'petal length (cm)': 5.6, 'petal width (cm)': 1.4}, 2),\n",
       " ({'petal length (cm)': 6.1, 'petal width (cm)': 2.3}, 2),\n",
       " ({'petal length (cm)': 5.6, 'petal width (cm)': 2.4}, 2),\n",
       " ({'petal length (cm)': 5.5, 'petal width (cm)': 1.8}, 2),\n",
       " ({'petal length (cm)': 4.8, 'petal width (cm)': 1.8}, 2),\n",
       " ({'petal length (cm)': 5.4, 'petal width (cm)': 2.1}, 2),\n",
       " ({'petal length (cm)': 5.6, 'petal width (cm)': 2.4}, 2),\n",
       " ({'petal length (cm)': 5.1, 'petal width (cm)': 2.3}, 2),\n",
       " ({'petal length (cm)': 5.1, 'petal width (cm)': 1.9}, 2),\n",
       " ({'petal length (cm)': 5.9, 'petal width (cm)': 2.3}, 2),\n",
       " ({'petal length (cm)': 5.7, 'petal width (cm)': 2.5}, 2),\n",
       " ({'petal length (cm)': 5.2, 'petal width (cm)': 2.3}, 2),\n",
       " ({'petal length (cm)': 5.0, 'petal width (cm)': 1.9}, 2),\n",
       " ({'petal length (cm)': 5.2, 'petal width (cm)': 2.0}, 2),\n",
       " ({'petal length (cm)': 5.4, 'petal width (cm)': 2.3}, 2),\n",
       " ({'petal length (cm)': 5.1, 'petal width (cm)': 1.8}, 2)]"
      ]
     },
     "execution_count": 38,
     "metadata": {},
     "output_type": "execute_result"
    }
   ],
   "source": [
    "zipped_iris_data"
   ]
  },
  {
   "cell_type": "code",
   "execution_count": 56,
   "metadata": {},
   "outputs": [
    {
     "data": {
      "text/plain": [
       "'\\nModule containing the DecisionTree class.\\n'"
      ]
     },
     "execution_count": 56,
     "metadata": {},
     "output_type": "execute_result"
    }
   ],
   "source": [
    "\"\"\"\n",
    "Module containing the DecisionTree class.\n",
    "\"\"\"\n",
    "from collections import Counter\n",
    "from math import log2\n",
    "\n",
    "\n",
    "class Node:\n",
    "    \"\"\"\n",
    "    Node that contains all information required in order to make predictions and pass\n",
    "    information on for further evaluation to other nodes.\n",
    "    \"\"\"\n",
    "\n",
    "    def __init__(self, threshold, samples, values, classification, gini=None):\n",
    "        \"\"\"\n",
    "        \"\"\"\n",
    "        self.threshold = threshold\n",
    "        self.samples = samples\n",
    "        self.values = values\n",
    "        self.classification = classification\n",
    "        self.left = None\n",
    "        self.right = None\n",
    "        self.gini = None\n",
    "\n",
    "\n",
    "class DecisionTree:\n",
    "    \"\"\"\n",
    "    A crude implentation of a decision tree that can either use the Gini index\n",
    "    or entropy (information gain).\n",
    "    \"\"\"\n",
    "\n",
    "    def __init__(self, max_depth=1):\n",
    "        \"\"\"\n",
    "        \"\"\"\n",
    "        self.root = None\n",
    "        self.max_depth = max_depth\n",
    "\n",
    "    def train(self, X, y, method='gini'):\n",
    "        \"\"\"\n",
    "        \"\"\"\n",
    "        pass\n",
    "\n",
    "    def predict():\n",
    "        \"\"\"\n",
    "        \"\"\"\n",
    "        pass\n",
    "\n",
    "    def _gini(self, labels):\n",
    "        \"\"\"\n",
    "        Calculates the gini impurity for a set of labels.\n",
    "        \"\"\"\n",
    "        total = len(labels)\n",
    "        label_counts = Counter(labels).values()\n",
    "        return 1 - sum((p / total)**2\n",
    "                       for p in label_counts\n",
    "                       if p)\n",
    "\n",
    "    def _entropy(self, labels):\n",
    "        \"\"\"\n",
    "        Calculates entropy for a set of labels.\n",
    "        \"\"\"\n",
    "        total = len(labels)\n",
    "        label_counts = Counter(labels).values()\n",
    "        return -sum((p / total) * log2(p / total)\n",
    "                    for p in label_counts\n",
    "                    if p)\n",
    "\n",
    "    def _id3():\n",
    "        \"\"\"\n",
    "        Builds a decision tree using the ID3 algorithm.\n",
    "        \"\"\"\n",
    "        pass\n",
    "\n",
    "    def _cart(self, labeled_data):\n",
    "        \"\"\"\n",
    "        Classification and Regression Tree implementation.\n",
    "        \"\"\"\n",
    "        # Starts with all the data and runs the cost function on each feature to get the best starting split.\n",
    "        # \n",
    "\n",
    "        self._depth = 0\n",
    "        labels = [label[1] for label in labeled_data]\n",
    "        lowest_cost = float('inf')\n",
    "        for feature in labeled_data[0][0].keys():\n",
    "            gini_calculations = self._gini_cost(labeled_data, feature)\n",
    "            if gini_calculations[0] < lowest_cost:\n",
    "                lowest_cost, threshold, left_samples, right_samples = gini_calculations\n",
    "\n",
    "        if self.root is None:\n",
    "            import pdb; pdb.set_trace()\n",
    "            self.root = Node(threshold, len(labeled_data), labeled_data, left_samples[0][1], self._gini(labels))\n",
    "            node = self.root\n",
    "        else:\n",
    "            node = Node(threshold, len(labeled_data), labeled_data, left_samples[0][1], self._gini(labels))\n",
    "\n",
    "        if self._depth < self.max_depth:\n",
    "            self._depth += 1\n",
    "            node.left = self._cart(left_samples)\n",
    "            node.right = self._cart(right_samples)\n",
    "        else:\n",
    "            return node\n",
    "\n",
    "    def _gini_cost(self, labeled_data, feature_name):\n",
    "        \"\"\"\n",
    "        Calculate the cost function as part of the CART algorithm.\n",
    "        \"\"\"\n",
    "        minim = []\n",
    "        cost_min = float('inf')\n",
    "        len_labeled_data = len(labeled_data)\n",
    "        feature_data = [row[0][feature_name] for row in labeled_data]\n",
    "        max_feature = int(max(feature_data)) * 100\n",
    "        min_feature = int(min(feature_data)) * 100\n",
    "        span = (i / 100 for i in range(min_feature, max_feature + 1))\n",
    "        for x in span:\n",
    "            left = []\n",
    "            right = []\n",
    "            for i, num in enumerate(feature_data):\n",
    "                if num <= x:\n",
    "                    left.append(i)\n",
    "                else:\n",
    "                    right.append(i)\n",
    "            left_labels = [labeled_data[idx][1] for idx in left]\n",
    "            right_labels = [labeled_data[idx][1] for idx in right]\n",
    "            cost = len(left_labels) * self._gini(left_labels) / len_labeled_data + len(right_labels) * self._gini(right_labels) / len_labeled_data\n",
    "            if cost < cost_min:\n",
    "                cost_min = cost\n",
    "                minim = []\n",
    "                minim.append(x)\n",
    "                left_samples = [labeled_data[idx] for idx in left]\n",
    "                right_samples = [labeled_data[idx] for idx in right]\n",
    "            elif cost == cost_min:\n",
    "                minim.append(x)\n",
    "        avg_minimums = sum(minim) / len(minim)\n",
    "        return cost_min, avg_minimums, left_samples, right_samples\n"
   ]
  },
  {
   "cell_type": "code",
   "execution_count": 57,
   "metadata": {
    "collapsed": true
   },
   "outputs": [],
   "source": [
    "dct = DecisionTree()"
   ]
  },
  {
   "cell_type": "code",
   "execution_count": 58,
   "metadata": {
    "collapsed": true
   },
   "outputs": [],
   "source": [
    "dct.max_depth = 2"
   ]
  },
  {
   "cell_type": "code",
   "execution_count": 59,
   "metadata": {},
   "outputs": [
    {
     "name": "stdout",
     "output_type": "stream",
     "text": [
      "> <ipython-input-56-c4dfdef07c23>(91)_cart()\n",
      "-> self.root = Node(threshold, len(labeled_data), labeled_data, left_samples[0][1], self._gini(labels))\n",
      "(Pdb) exit\n"
     ]
    },
    {
     "ename": "BdbQuit",
     "evalue": "",
     "output_type": "error",
     "traceback": [
      "\u001b[1;31m---------------------------------------------------------------------------\u001b[0m",
      "\u001b[1;31mBdbQuit\u001b[0m                                   Traceback (most recent call last)",
      "\u001b[1;32m<ipython-input-59-17994ec38e54>\u001b[0m in \u001b[0;36m<module>\u001b[1;34m()\u001b[0m\n\u001b[1;32m----> 1\u001b[1;33m \u001b[0mdct\u001b[0m\u001b[1;33m.\u001b[0m\u001b[0m_cart\u001b[0m\u001b[1;33m(\u001b[0m\u001b[0mzipped_iris_data\u001b[0m\u001b[1;33m)\u001b[0m\u001b[1;33m\u001b[0m\u001b[0m\n\u001b[0m",
      "\u001b[1;32m<ipython-input-56-c4dfdef07c23>\u001b[0m in \u001b[0;36m_cart\u001b[1;34m(self, labeled_data)\u001b[0m\n\u001b[0;32m     89\u001b[0m         \u001b[1;32mif\u001b[0m \u001b[0mself\u001b[0m\u001b[1;33m.\u001b[0m\u001b[0mroot\u001b[0m \u001b[1;32mis\u001b[0m \u001b[1;32mNone\u001b[0m\u001b[1;33m:\u001b[0m\u001b[1;33m\u001b[0m\u001b[0m\n\u001b[0;32m     90\u001b[0m             \u001b[1;32mimport\u001b[0m \u001b[0mpdb\u001b[0m\u001b[1;33m;\u001b[0m \u001b[0mpdb\u001b[0m\u001b[1;33m.\u001b[0m\u001b[0mset_trace\u001b[0m\u001b[1;33m(\u001b[0m\u001b[1;33m)\u001b[0m\u001b[1;33m\u001b[0m\u001b[0m\n\u001b[1;32m---> 91\u001b[1;33m             \u001b[0mself\u001b[0m\u001b[1;33m.\u001b[0m\u001b[0mroot\u001b[0m \u001b[1;33m=\u001b[0m \u001b[0mNode\u001b[0m\u001b[1;33m(\u001b[0m\u001b[0mthreshold\u001b[0m\u001b[1;33m,\u001b[0m \u001b[0mlen\u001b[0m\u001b[1;33m(\u001b[0m\u001b[0mlabeled_data\u001b[0m\u001b[1;33m)\u001b[0m\u001b[1;33m,\u001b[0m \u001b[0mlabeled_data\u001b[0m\u001b[1;33m,\u001b[0m \u001b[0mleft_samples\u001b[0m\u001b[1;33m[\u001b[0m\u001b[1;36m0\u001b[0m\u001b[1;33m]\u001b[0m\u001b[1;33m[\u001b[0m\u001b[1;36m1\u001b[0m\u001b[1;33m]\u001b[0m\u001b[1;33m,\u001b[0m \u001b[0mself\u001b[0m\u001b[1;33m.\u001b[0m\u001b[0m_gini\u001b[0m\u001b[1;33m(\u001b[0m\u001b[0mlabels\u001b[0m\u001b[1;33m)\u001b[0m\u001b[1;33m)\u001b[0m\u001b[1;33m\u001b[0m\u001b[0m\n\u001b[0m\u001b[0;32m     92\u001b[0m             \u001b[0mnode\u001b[0m \u001b[1;33m=\u001b[0m \u001b[0mself\u001b[0m\u001b[1;33m.\u001b[0m\u001b[0mroot\u001b[0m\u001b[1;33m\u001b[0m\u001b[0m\n\u001b[0;32m     93\u001b[0m         \u001b[1;32melse\u001b[0m\u001b[1;33m:\u001b[0m\u001b[1;33m\u001b[0m\u001b[0m\n",
      "\u001b[1;32m<ipython-input-56-c4dfdef07c23>\u001b[0m in \u001b[0;36m_cart\u001b[1;34m(self, labeled_data)\u001b[0m\n\u001b[0;32m     89\u001b[0m         \u001b[1;32mif\u001b[0m \u001b[0mself\u001b[0m\u001b[1;33m.\u001b[0m\u001b[0mroot\u001b[0m \u001b[1;32mis\u001b[0m \u001b[1;32mNone\u001b[0m\u001b[1;33m:\u001b[0m\u001b[1;33m\u001b[0m\u001b[0m\n\u001b[0;32m     90\u001b[0m             \u001b[1;32mimport\u001b[0m \u001b[0mpdb\u001b[0m\u001b[1;33m;\u001b[0m \u001b[0mpdb\u001b[0m\u001b[1;33m.\u001b[0m\u001b[0mset_trace\u001b[0m\u001b[1;33m(\u001b[0m\u001b[1;33m)\u001b[0m\u001b[1;33m\u001b[0m\u001b[0m\n\u001b[1;32m---> 91\u001b[1;33m             \u001b[0mself\u001b[0m\u001b[1;33m.\u001b[0m\u001b[0mroot\u001b[0m \u001b[1;33m=\u001b[0m \u001b[0mNode\u001b[0m\u001b[1;33m(\u001b[0m\u001b[0mthreshold\u001b[0m\u001b[1;33m,\u001b[0m \u001b[0mlen\u001b[0m\u001b[1;33m(\u001b[0m\u001b[0mlabeled_data\u001b[0m\u001b[1;33m)\u001b[0m\u001b[1;33m,\u001b[0m \u001b[0mlabeled_data\u001b[0m\u001b[1;33m,\u001b[0m \u001b[0mleft_samples\u001b[0m\u001b[1;33m[\u001b[0m\u001b[1;36m0\u001b[0m\u001b[1;33m]\u001b[0m\u001b[1;33m[\u001b[0m\u001b[1;36m1\u001b[0m\u001b[1;33m]\u001b[0m\u001b[1;33m,\u001b[0m \u001b[0mself\u001b[0m\u001b[1;33m.\u001b[0m\u001b[0m_gini\u001b[0m\u001b[1;33m(\u001b[0m\u001b[0mlabels\u001b[0m\u001b[1;33m)\u001b[0m\u001b[1;33m)\u001b[0m\u001b[1;33m\u001b[0m\u001b[0m\n\u001b[0m\u001b[0;32m     92\u001b[0m             \u001b[0mnode\u001b[0m \u001b[1;33m=\u001b[0m \u001b[0mself\u001b[0m\u001b[1;33m.\u001b[0m\u001b[0mroot\u001b[0m\u001b[1;33m\u001b[0m\u001b[0m\n\u001b[0;32m     93\u001b[0m         \u001b[1;32melse\u001b[0m\u001b[1;33m:\u001b[0m\u001b[1;33m\u001b[0m\u001b[0m\n",
      "\u001b[1;32m~\\Anaconda3\\envs\\ENV\\lib\\bdb.py\u001b[0m in \u001b[0;36mtrace_dispatch\u001b[1;34m(self, frame, event, arg)\u001b[0m\n\u001b[0;32m     46\u001b[0m             \u001b[1;32mreturn\u001b[0m \u001b[1;31m# None\u001b[0m\u001b[1;33m\u001b[0m\u001b[0m\n\u001b[0;32m     47\u001b[0m         \u001b[1;32mif\u001b[0m \u001b[0mevent\u001b[0m \u001b[1;33m==\u001b[0m \u001b[1;34m'line'\u001b[0m\u001b[1;33m:\u001b[0m\u001b[1;33m\u001b[0m\u001b[0m\n\u001b[1;32m---> 48\u001b[1;33m             \u001b[1;32mreturn\u001b[0m \u001b[0mself\u001b[0m\u001b[1;33m.\u001b[0m\u001b[0mdispatch_line\u001b[0m\u001b[1;33m(\u001b[0m\u001b[0mframe\u001b[0m\u001b[1;33m)\u001b[0m\u001b[1;33m\u001b[0m\u001b[0m\n\u001b[0m\u001b[0;32m     49\u001b[0m         \u001b[1;32mif\u001b[0m \u001b[0mevent\u001b[0m \u001b[1;33m==\u001b[0m \u001b[1;34m'call'\u001b[0m\u001b[1;33m:\u001b[0m\u001b[1;33m\u001b[0m\u001b[0m\n\u001b[0;32m     50\u001b[0m             \u001b[1;32mreturn\u001b[0m \u001b[0mself\u001b[0m\u001b[1;33m.\u001b[0m\u001b[0mdispatch_call\u001b[0m\u001b[1;33m(\u001b[0m\u001b[0mframe\u001b[0m\u001b[1;33m,\u001b[0m \u001b[0marg\u001b[0m\u001b[1;33m)\u001b[0m\u001b[1;33m\u001b[0m\u001b[0m\n",
      "\u001b[1;32m~\\Anaconda3\\envs\\ENV\\lib\\bdb.py\u001b[0m in \u001b[0;36mdispatch_line\u001b[1;34m(self, frame)\u001b[0m\n\u001b[0;32m     65\u001b[0m         \u001b[1;32mif\u001b[0m \u001b[0mself\u001b[0m\u001b[1;33m.\u001b[0m\u001b[0mstop_here\u001b[0m\u001b[1;33m(\u001b[0m\u001b[0mframe\u001b[0m\u001b[1;33m)\u001b[0m \u001b[1;32mor\u001b[0m \u001b[0mself\u001b[0m\u001b[1;33m.\u001b[0m\u001b[0mbreak_here\u001b[0m\u001b[1;33m(\u001b[0m\u001b[0mframe\u001b[0m\u001b[1;33m)\u001b[0m\u001b[1;33m:\u001b[0m\u001b[1;33m\u001b[0m\u001b[0m\n\u001b[0;32m     66\u001b[0m             \u001b[0mself\u001b[0m\u001b[1;33m.\u001b[0m\u001b[0muser_line\u001b[0m\u001b[1;33m(\u001b[0m\u001b[0mframe\u001b[0m\u001b[1;33m)\u001b[0m\u001b[1;33m\u001b[0m\u001b[0m\n\u001b[1;32m---> 67\u001b[1;33m             \u001b[1;32mif\u001b[0m \u001b[0mself\u001b[0m\u001b[1;33m.\u001b[0m\u001b[0mquitting\u001b[0m\u001b[1;33m:\u001b[0m \u001b[1;32mraise\u001b[0m \u001b[0mBdbQuit\u001b[0m\u001b[1;33m\u001b[0m\u001b[0m\n\u001b[0m\u001b[0;32m     68\u001b[0m         \u001b[1;32mreturn\u001b[0m \u001b[0mself\u001b[0m\u001b[1;33m.\u001b[0m\u001b[0mtrace_dispatch\u001b[0m\u001b[1;33m\u001b[0m\u001b[0m\n\u001b[0;32m     69\u001b[0m \u001b[1;33m\u001b[0m\u001b[0m\n",
      "\u001b[1;31mBdbQuit\u001b[0m: "
     ]
    }
   ],
   "source": [
    "dct._cart(zipped_iris_data)"
   ]
  },
  {
   "cell_type": "code",
   "execution_count": null,
   "metadata": {
    "collapsed": true
   },
   "outputs": [],
   "source": []
  }
 ],
 "metadata": {
  "kernelspec": {
   "display_name": "Python 3",
   "language": "python",
   "name": "python3"
  },
  "language_info": {
   "codemirror_mode": {
    "name": "ipython",
    "version": 3
   },
   "file_extension": ".py",
   "mimetype": "text/x-python",
   "name": "python",
   "nbconvert_exporter": "python",
   "pygments_lexer": "ipython3",
   "version": "3.6.3"
  }
 },
 "nbformat": 4,
 "nbformat_minor": 2
}
